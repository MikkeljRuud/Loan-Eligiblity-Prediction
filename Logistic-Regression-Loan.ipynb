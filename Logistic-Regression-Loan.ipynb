{
 "cells": [
  {
   "cell_type": "code",
   "execution_count": 2,
   "metadata": {},
   "outputs": [
    {
     "name": "stderr",
     "output_type": "stream",
     "text": [
      "\n",
      "Bad key \"text.kerning_factor\" on line 4 in\n",
      "/Users/mikkelruud/anaconda3/lib/python3.7/site-packages/matplotlib/mpl-data/stylelib/_classic_test_patch.mplstyle.\n",
      "You probably need to get an updated matplotlibrc file from\n",
      "https://github.com/matplotlib/matplotlib/blob/v3.1.3/matplotlibrc.template\n",
      "or from the matplotlib source distribution\n"
     ]
    }
   ],
   "source": [
    "import pandas as pd\n",
    "import numpy as np\n",
    "from sklearn.metrics import accuracy_score, confusion_matrix\n",
    "from sklearn.model_selection import train_test_split\n",
    "from collections import Counter\n",
    "import os #this to change working directories\n",
    "import pandas_profiling\n",
    "from sklearn.base import clone\n",
    "import seaborn as sns\n",
    "from sklearn.preprocessing import StandardScaler\n",
    "import matplotlib.pyplot as plt\n",
    "#print(os.getcwd())\n",
    "from sklearn import tree\n",
    "from sklearn.metrics import confusion_matrix\n",
    "from sklearn.metrics import accuracy_score\n",
    "from sklearn.tree import plot_tree\n",
    "from matplotlib import pyplot\n",
    "from sklearn.model_selection import GridSearchCV\n",
    "from sklearn import metrics\n",
    "from sklearn.metrics import roc_curve\n",
    "from sklearn.metrics import roc_auc_score\n",
    "from sklearn.metrics import plot_confusion_matrix\n",
    "from imblearn.over_sampling import SMOTE\n",
    "from sklearn.metrics import precision_score, recall_score, accuracy_score, f1_score, make_scorer\n",
    "from sklearn.model_selection import cross_val_score, cross_val_predict\n",
    "from sklearn.preprocessing import StandardScaler\n",
    "from sklearn.metrics import auc\n",
    "from sklearn.metrics import mean_squared_error\n",
    "from math import sqrt\n",
    "from sklearn.model_selection import train_test_split, GridSearchCV, StratifiedKFold\n",
    "from sklearn.linear_model import LogisticRegression\n",
    "from sklearn.ensemble import RandomForestClassifier\n",
    "from sklearn.pipeline import Pipeline\n",
    "from sklearn.metrics import classification_report\n"
   ]
  },
  {
   "cell_type": "code",
   "execution_count": 6,
   "metadata": {},
   "outputs": [],
   "source": [
    "df1=pd.read_csv('borrower_table.csv')\n",
    "df2=pd.read_csv('loan_table.csv')"
   ]
  },
  {
   "cell_type": "code",
   "execution_count": 7,
   "metadata": {},
   "outputs": [],
   "source": [
    "df= pd.merge(df1,df2,on=['loan_id'], how='inner')"
   ]
  },
  {
   "cell_type": "code",
   "execution_count": 8,
   "metadata": {},
   "outputs": [
    {
     "name": "stdout",
     "output_type": "stream",
     "text": [
      "<class 'pandas.core.frame.DataFrame'>\n",
      "Int64Index: 101100 entries, 0 to 101099\n",
      "Data columns (total 16 columns):\n",
      "loan_id                                            101100 non-null int64\n",
      "is_first_loan                                      101100 non-null int64\n",
      "fully_repaid_previous_loans                        46153 non-null float64\n",
      "currently_repaying_other_loans                     46153 non-null float64\n",
      "total_credit_card_limit                            101100 non-null int64\n",
      "avg_percentage_credit_card_limit_used_last_year    94128 non-null float64\n",
      "saving_amount                                      101100 non-null int64\n",
      "checking_amount                                    101100 non-null int64\n",
      "is_employed                                        101100 non-null int64\n",
      "yearly_salary                                      101100 non-null int64\n",
      "age                                                101100 non-null int64\n",
      "dependent_number                                   101100 non-null int64\n",
      "loan_purpose                                       101100 non-null object\n",
      "date                                               101100 non-null object\n",
      "loan_granted                                       101100 non-null int64\n",
      "loan_repaid                                        47654 non-null float64\n",
      "dtypes: float64(4), int64(10), object(2)\n",
      "memory usage: 13.1+ MB\n"
     ]
    }
   ],
   "source": [
    "df.info()"
   ]
  },
  {
   "cell_type": "code",
   "execution_count": 9,
   "metadata": {},
   "outputs": [],
   "source": [
    "pd.set_option('display.max_rows', 2000)\n",
    "pd.set_option('display.max_columns', 500)"
   ]
  },
  {
   "cell_type": "code",
   "execution_count": 10,
   "metadata": {},
   "outputs": [],
   "source": [
    "df.set_index(['loan_id'], inplace=True)"
   ]
  },
  {
   "cell_type": "code",
   "execution_count": 11,
   "metadata": {},
   "outputs": [
    {
     "data": {
      "text/plain": [
       "53446"
      ]
     },
     "execution_count": 11,
     "metadata": {},
     "output_type": "execute_result"
    }
   ],
   "source": [
    "df[\"loan_repaid\"].isnull().sum()"
   ]
  },
  {
   "cell_type": "code",
   "execution_count": 12,
   "metadata": {},
   "outputs": [],
   "source": [
    "df.dropna(subset=[\"loan_repaid\"], inplace=True)"
   ]
  },
  {
   "cell_type": "code",
   "execution_count": 13,
   "metadata": {},
   "outputs": [
    {
     "name": "stdout",
     "output_type": "stream",
     "text": [
      "Positive examples = 30706\n",
      "Negative examples = 16948\n",
      "Proportion of positive to negative examples = 55.19%\n"
     ]
    },
    {
     "data": {
      "image/png": "[encoded data removed]",
      "text/plain": [
       "<Figure size 576x432 with 1 Axes>"
      ]
     },
     "metadata": {
      "needs_background": "light"
     },
     "output_type": "display_data"
    }
   ],
   "source": [
    "# Get number of positve and negative examples\n",
    "pos = df[df[\"loan_repaid\"] == 1].shape[0]\n",
    "neg = df[df[\"loan_repaid\"] == 0].shape[0]\n",
    "print(f\"Positive examples = {pos}\")\n",
    "print(f\"Negative examples = {neg}\")\n",
    "print(f\"Proportion of positive to negative examples = {(neg/pos) * 100:.2f}%\")\n",
    "plt.figure(figsize=(8, 6))\n",
    "sns.countplot(df[\"loan_repaid\"])\n",
    "plt.xticks((0, 1), [\"Paid fully\", \"Not paid fully\"])\n",
    "plt.xlabel(\"\")\n",
    "plt.ylabel(\"Count\")\n",
    "plt.title(\"Class counts\", y=1, fontdict={\"fontsize\": 20});"
   ]
  },
  {
   "cell_type": "code",
   "execution_count": 14,
   "metadata": {},
   "outputs": [],
   "source": [
    "#Drop Loan_granted and Date?\n",
    "df.drop([\"loan_granted\",\"date\"], axis='columns', inplace=True)"
   ]
  },
  {
   "cell_type": "code",
   "execution_count": 15,
   "metadata": {},
   "outputs": [],
   "source": [
    "#list of conditions(1=Other, 2=Emergency_funds, 3=Business, 4= Home, 5= Investment)\n",
    "conditions = [\n",
    "    (df['loan_purpose'] == \"other\"),\n",
    "    (df['loan_purpose'] == \"emergency_funds\"),\n",
    "    (df['loan_purpose'] == \"business\"),\n",
    "    (df['loan_purpose'] == \"home\"),\n",
    "    (df['loan_purpose'] == \"investment\"),\n",
    "    ]"
   ]
  },
  {
   "cell_type": "code",
   "execution_count": 16,
   "metadata": {},
   "outputs": [],
   "source": [
    "# create a list of the values we want to assign for each condition\n",
    "values = [1, 2, 3, 4, 5]"
   ]
  },
  {
   "cell_type": "code",
   "execution_count": 17,
   "metadata": {},
   "outputs": [],
   "source": [
    "# create a new column and use np.select to assign values to it using our lists as arguments\n",
    "df['loan_purpose'] = np.select(conditions, values)"
   ]
  },
  {
   "cell_type": "code",
   "execution_count": 18,
   "metadata": {},
   "outputs": [],
   "source": [
    "#Fill NA\n",
    "df['fully_repaid_previous_loans'] = df['fully_repaid_previous_loans'].fillna(0)\n",
    "df['currently_repaying_other_loans'] = df['currently_repaying_other_loans'].fillna(0)\n",
    "df['avg_percentage_credit_card_limit_used_last_year'] = df['avg_percentage_credit_card_limit_used_last_year'].fillna(0)"
   ]
  },
  {
   "cell_type": "code",
   "execution_count": 19,
   "metadata": {},
   "outputs": [],
   "source": [
    "#Change to integers only\n",
    "#df.astype(int)\n",
    "df.loan_repaid = df.loan_repaid.apply(int) # round instead of int is you prefer to round\n",
    "df.fully_repaid_previous_loans = df.fully_repaid_previous_loans.apply(int) \n",
    "df.currently_repaying_other_loans = df.currently_repaying_other_loans.apply(int) "
   ]
  },
  {
   "cell_type": "code",
   "execution_count": 20,
   "metadata": {},
   "outputs": [],
   "source": [
    "df = df[[\"loan_repaid\", \"is_first_loan\", \"fully_repaid_previous_loans\", \"currently_repaying_other_loans\", \"total_credit_card_limit\", \"avg_percentage_credit_card_limit_used_last_year\", \"saving_amount\" ,\"checking_amount\", \"is_employed\" ,\"yearly_salary\", \"age\", \"dependent_number\", \"loan_purpose\"]]"
   ]
  },
  {
   "cell_type": "code",
   "execution_count": 21,
   "metadata": {
    "scrolled": false
   },
   "outputs": [],
   "source": [
    "#df.drop([\"is_employed\", \"avg_percentage_credit_card_limit_used_last_year\", \"fully_repaid_previous_loans\", \"currently_repaying_other_loans\"], axis='columns', inplace=True)\n",
    "df.drop([\"is_employed\", \"avg_percentage_credit_card_limit_used_last_year\", \"fully_repaid_previous_loans\"], axis='columns', inplace=True)"
   ]
  },
  {
   "cell_type": "code",
   "execution_count": 23,
   "metadata": {},
   "outputs": [
    {
     "name": "stdout",
     "output_type": "stream",
     "text": [
      "<class 'pandas.core.frame.DataFrame'>\n",
      "Int64Index: 47654 entries, 135565 to 761999\n",
      "Data columns (total 10 columns):\n",
      "loan_repaid                       47654 non-null int64\n",
      "is_first_loan                     47654 non-null int64\n",
      "currently_repaying_other_loans    47654 non-null int64\n",
      "total_credit_card_limit           47654 non-null int64\n",
      "saving_amount                     47654 non-null int64\n",
      "checking_amount                   47654 non-null int64\n",
      "yearly_salary                     47654 non-null int64\n",
      "age                               47654 non-null int64\n",
      "dependent_number                  47654 non-null int64\n",
      "loan_purpose                      47654 non-null int64\n",
      "dtypes: int64(10)\n",
      "memory usage: 5.2 MB\n"
     ]
    }
   ],
   "source": [
    "df.info()"
   ]
  },
  {
   "cell_type": "markdown",
   "metadata": {},
   "source": [
    "# Predictive Machine Learning Model"
   ]
  },
  {
   "cell_type": "code",
   "execution_count": 19,
   "metadata": {},
   "outputs": [],
   "source": [
    "X = df.copy(deep=True)"
   ]
  },
  {
   "cell_type": "code",
   "execution_count": 20,
   "metadata": {},
   "outputs": [
    {
     "name": "stdout",
     "output_type": "stream",
     "text": [
      "16948\n",
      "30706\n"
     ]
    }
   ],
   "source": [
    "y = X.pop('loan_repaid')\n",
    "count = y.count()\n",
    "print(np.count_nonzero(y < 1))\n",
    "print(np.count_nonzero(y >= 1))"
   ]
  },
  {
   "cell_type": "code",
   "execution_count": 21,
   "metadata": {},
   "outputs": [],
   "source": [
    "ss= StandardScaler()\n",
    "X= ss.fit_transform(X)"
   ]
  },
  {
   "cell_type": "code",
   "execution_count": 22,
   "metadata": {},
   "outputs": [
    {
     "data": {
      "text/plain": [
       "Text(0.5, 1, 'Heatmap of correlation')"
      ]
     },
     "execution_count": 22,
     "metadata": {},
     "output_type": "execute_result"
    },
    {
     "data": {
      "image/png": "[encoded data removed]",
      "text/plain": [
       "<Figure size 864x720 with 2 Axes>"
      ]
     },
     "metadata": {
      "needs_background": "light"
     },
     "output_type": "display_data"
    }
   ],
   "source": [
    "corr = df.corr()\n",
    "plt.figure(figsize=(12,10))\n",
    "heat=sns.heatmap(data=corr, annot=True, fmt=\".2f\")\n",
    "plt.title('Heatmap of correlation')"
   ]
  },
  {
   "cell_type": "code",
   "execution_count": 23,
   "metadata": {},
   "outputs": [],
   "source": [
    "X_train, X_test, y_train, y_test = train_test_split(\n",
    "    X, y, random_state=42, test_size = .20)"
   ]
  },
  {
   "cell_type": "code",
   "execution_count": 24,
   "metadata": {},
   "outputs": [
    {
     "name": "stdout",
     "output_type": "stream",
     "text": [
      "13513\n",
      "24610\n"
     ]
    }
   ],
   "source": [
    "count = y_train.count()\n",
    "print(np.count_nonzero(y_train < 1))\n",
    "print(np.count_nonzero(y_train >= 1))\n"
   ]
  },
  {
   "cell_type": "code",
   "execution_count": 25,
   "metadata": {},
   "outputs": [
    {
     "name": "stdout",
     "output_type": "stream",
     "text": [
      "smote target shape Counter({0: 24610, 1: 24610})\n"
     ]
    }
   ],
   "source": [
    "X_resampled, y_resampled = SMOTE().fit_resample(X_train, y_train)\n",
    "print('smote target shape %s' % Counter(y_resampled))"
   ]
  },
  {
   "cell_type": "code",
   "execution_count": 26,
   "metadata": {},
   "outputs": [],
   "source": [
    "X_resampled, X_val, y_resampled, y_val = train_test_split(\n",
    "    X_resampled, y_resampled, test_size=0.20, random_state=42)"
   ]
  },
  {
   "cell_type": "markdown",
   "metadata": {},
   "source": [
    "# CREATE THE MODEL (without tuning)"
   ]
  },
  {
   "cell_type": "code",
   "execution_count": 43,
   "metadata": {},
   "outputs": [],
   "source": [
    "model = LogisticRegression(random_state=42).fit(X_resampled, y_resampled)"
   ]
  },
  {
   "cell_type": "code",
   "execution_count": 44,
   "metadata": {},
   "outputs": [
    {
     "data": {
      "text/plain": [
       "<sklearn.metrics._plot.confusion_matrix.ConfusionMatrixDisplay at 0x120b1bb0>"
      ]
     },
     "execution_count": 44,
     "metadata": {},
     "output_type": "execute_result"
    },
    {
     "data": {
      "image/png": "[encoded data removed]",
      "text/plain": [
       "<Figure size 432x288 with 2 Axes>"
      ]
     },
     "metadata": {
      "needs_background": "light"
     },
     "output_type": "display_data"
    }
   ],
   "source": [
    "plot_confusion_matrix(model, X_val, y_val, values_format='')"
   ]
  },
  {
   "cell_type": "code",
   "execution_count": 45,
   "metadata": {},
   "outputs": [],
   "source": [
    "# predict the training data\n",
    "y_pred= model.predict(X_val)"
   ]
  },
  {
   "cell_type": "code",
   "execution_count": 46,
   "metadata": {},
   "outputs": [
    {
     "name": "stdout",
     "output_type": "stream",
     "text": [
      "              precision    recall  f1-score   support\n",
      "\n",
      "           0       0.89      0.92      0.91      4904\n",
      "           1       0.92      0.89      0.90      4940\n",
      "\n",
      "    accuracy                           0.91      9844\n",
      "   macro avg       0.91      0.91      0.91      9844\n",
      "weighted avg       0.91      0.91      0.91      9844\n",
      "\n"
     ]
    }
   ],
   "source": [
    "print(classification_report(y_val,y_pred))"
   ]
  },
  {
   "cell_type": "code",
   "execution_count": null,
   "metadata": {},
   "outputs": [],
   "source": []
  },
  {
   "cell_type": "code",
   "execution_count": 47,
   "metadata": {},
   "outputs": [
    {
     "name": "stdout",
     "output_type": "stream",
     "text": [
      "Accurcay 0.9058309630231614\n",
      "Precision 0.9202094240837696\n",
      "Recall 0.8894736842105263\n",
      "F1 score 0.9045805455481214\n"
     ]
    }
   ],
   "source": [
    "print(\"Accurcay\",accuracy_score(y_val, y_pred))\n",
    "print(\"Precision\", precision_score(y_val, y_pred))\n",
    "print(\"Recall\",recall_score(y_val, y_pred))\n",
    "print(\"F1 score\",f1_score(y_val, y_pred))"
   ]
  },
  {
   "cell_type": "markdown",
   "metadata": {},
   "source": [
    "# Tuning the hyperparameters"
   ]
  },
  {
   "cell_type": "code",
   "execution_count": 84,
   "metadata": {},
   "outputs": [
    {
     "data": {
      "text/plain": [
       "{'C': 1.0,\n",
       " 'class_weight': None,\n",
       " 'dual': False,\n",
       " 'fit_intercept': True,\n",
       " 'intercept_scaling': 1,\n",
       " 'l1_ratio': None,\n",
       " 'max_iter': 100,\n",
       " 'multi_class': 'auto',\n",
       " 'n_jobs': None,\n",
       " 'penalty': 'l2',\n",
       " 'random_state': None,\n",
       " 'solver': 'lbfgs',\n",
       " 'tol': 0.0001,\n",
       " 'verbose': 0,\n",
       " 'warm_start': False}"
      ]
     },
     "execution_count": 84,
     "metadata": {},
     "output_type": "execute_result"
    }
   ],
   "source": [
    "LogisticRegression().get_params()"
   ]
  },
  {
   "cell_type": "code",
   "execution_count": 85,
   "metadata": {},
   "outputs": [],
   "source": [
    "model = LogisticRegression()"
   ]
  },
  {
   "cell_type": "code",
   "execution_count": 87,
   "metadata": {},
   "outputs": [],
   "source": [
    "penalty = ['l1', 'l2']\n",
    "C = np.logspace(0, 4, 10)"
   ]
  },
  {
   "cell_type": "code",
   "execution_count": 88,
   "metadata": {},
   "outputs": [],
   "source": [
    "param_dict = dict(C=C, penalty=penalty)"
   ]
  },
  {
   "cell_type": "code",
   "execution_count": 89,
   "metadata": {},
   "outputs": [
    {
     "name": "stdout",
     "output_type": "stream",
     "text": [
      "Fitting 10 folds for each of 20 candidates, totalling 200 fits\n"
     ]
    },
    {
     "name": "stderr",
     "output_type": "stream",
     "text": [
      "[Parallel(n_jobs=-1)]: Using backend LokyBackend with 8 concurrent workers.\n",
      "[Parallel(n_jobs=-1)]: Done  34 tasks      | elapsed:    2.8s\n",
      "[Parallel(n_jobs=-1)]: Done 200 out of 200 | elapsed:    3.6s finished\n"
     ]
    },
    {
     "data": {
      "text/plain": [
       "GridSearchCV(cv=10, error_score=nan,\n",
       "             estimator=LogisticRegression(C=1.0, class_weight=None, dual=False,\n",
       "                                          fit_intercept=True,\n",
       "                                          intercept_scaling=1, l1_ratio=None,\n",
       "                                          max_iter=100, multi_class='auto',\n",
       "                                          n_jobs=None, penalty='l2',\n",
       "                                          random_state=None, solver='lbfgs',\n",
       "                                          tol=0.0001, verbose=0,\n",
       "                                          warm_start=False),\n",
       "             iid='deprecated', n_jobs=-1,\n",
       "             param_grid={'C': array([1.00000000e+00, 2.78255940e+00, 7.74263683e+00, 2.15443469e+01,\n",
       "       5.99484250e+01, 1.66810054e+02, 4.64158883e+02, 1.29154967e+03,\n",
       "       3.59381366e+03, 1.00000000e+04]),\n",
       "                         'penalty': ['l1', 'l2']},\n",
       "             pre_dispatch='2*n_jobs', refit=True, return_train_score=False,\n",
       "             scoring=None, verbose=1)"
      ]
     },
     "execution_count": 89,
     "metadata": {},
     "output_type": "execute_result"
    }
   ],
   "source": [
    "grid = GridSearchCV(model, param_grid = param_dict, cv = 10, verbose=1, n_jobs=-1)\n",
    "grid.fit(X_resampled, y_resampled)"
   ]
  },
  {
   "cell_type": "code",
   "execution_count": 90,
   "metadata": {},
   "outputs": [
    {
     "data": {
      "text/plain": [
       "{'C': 7.742636826811269, 'penalty': 'l2'}"
      ]
     },
     "execution_count": 90,
     "metadata": {},
     "output_type": "execute_result"
    }
   ],
   "source": [
    "grid.best_params_"
   ]
  },
  {
   "cell_type": "code",
   "execution_count": 91,
   "metadata": {
    "scrolled": true
   },
   "outputs": [
    {
     "data": {
      "text/plain": [
       "LogisticRegression(C=7.742636826811269, class_weight=None, dual=False,\n",
       "                   fit_intercept=True, intercept_scaling=1, l1_ratio=None,\n",
       "                   max_iter=100, multi_class='auto', n_jobs=None, penalty='l2',\n",
       "                   random_state=None, solver='lbfgs', tol=0.0001, verbose=0,\n",
       "                   warm_start=False)"
      ]
     },
     "execution_count": 91,
     "metadata": {},
     "output_type": "execute_result"
    }
   ],
   "source": [
    "grid.best_estimator_"
   ]
  },
  {
   "cell_type": "code",
   "execution_count": 92,
   "metadata": {},
   "outputs": [
    {
     "data": {
      "text/plain": [
       "0.9025296012501623"
      ]
     },
     "execution_count": 92,
     "metadata": {},
     "output_type": "execute_result"
    }
   ],
   "source": [
    "grid.best_score_"
   ]
  },
  {
   "cell_type": "code",
   "execution_count": 93,
   "metadata": {},
   "outputs": [
    {
     "data": {
      "text/html": [
       "<div>\n",
       "<style scoped>\n",
       "    .dataframe tbody tr th:only-of-type {\n",
       "        vertical-align: middle;\n",
       "    }\n",
       "\n",
       "    .dataframe tbody tr th {\n",
       "        vertical-align: top;\n",
       "    }\n",
       "\n",
       "    .dataframe thead th {\n",
       "        text-align: right;\n",
       "    }\n",
       "</style>\n",
       "<table border=\"1\" class=\"dataframe\">\n",
       "  <thead>\n",
       "    <tr style=\"text-align: right;\">\n",
       "      <th></th>\n",
       "      <th>mean_fit_time</th>\n",
       "      <th>std_fit_time</th>\n",
       "      <th>mean_score_time</th>\n",
       "      <th>std_score_time</th>\n",
       "      <th>param_C</th>\n",
       "      <th>param_penalty</th>\n",
       "      <th>params</th>\n",
       "      <th>split0_test_score</th>\n",
       "      <th>split1_test_score</th>\n",
       "      <th>split2_test_score</th>\n",
       "      <th>split3_test_score</th>\n",
       "      <th>split4_test_score</th>\n",
       "      <th>split5_test_score</th>\n",
       "      <th>split6_test_score</th>\n",
       "      <th>split7_test_score</th>\n",
       "      <th>split8_test_score</th>\n",
       "      <th>split9_test_score</th>\n",
       "      <th>mean_test_score</th>\n",
       "      <th>std_test_score</th>\n",
       "      <th>rank_test_score</th>\n",
       "    </tr>\n",
       "  </thead>\n",
       "  <tbody>\n",
       "    <tr>\n",
       "      <th>0</th>\n",
       "      <td>0.030207</td>\n",
       "      <td>0.013354</td>\n",
       "      <td>0.000000</td>\n",
       "      <td>0.000000</td>\n",
       "      <td>1</td>\n",
       "      <td>l1</td>\n",
       "      <td>{'C': 1.0, 'penalty': 'l1'}</td>\n",
       "      <td>NaN</td>\n",
       "      <td>NaN</td>\n",
       "      <td>NaN</td>\n",
       "      <td>NaN</td>\n",
       "      <td>NaN</td>\n",
       "      <td>NaN</td>\n",
       "      <td>NaN</td>\n",
       "      <td>NaN</td>\n",
       "      <td>NaN</td>\n",
       "      <td>NaN</td>\n",
       "      <td>NaN</td>\n",
       "      <td>NaN</td>\n",
       "      <td>20</td>\n",
       "    </tr>\n",
       "    <tr>\n",
       "      <th>1</th>\n",
       "      <td>0.072401</td>\n",
       "      <td>0.026989</td>\n",
       "      <td>0.000982</td>\n",
       "      <td>0.000201</td>\n",
       "      <td>1</td>\n",
       "      <td>l2</td>\n",
       "      <td>{'C': 1.0, 'penalty': 'l2'}</td>\n",
       "      <td>0.89868</td>\n",
       "      <td>0.902235</td>\n",
       "      <td>0.89868</td>\n",
       "      <td>0.900711</td>\n",
       "      <td>0.897664</td>\n",
       "      <td>0.911122</td>\n",
       "      <td>0.906528</td>\n",
       "      <td>0.905766</td>\n",
       "      <td>0.895606</td>\n",
       "      <td>0.908052</td>\n",
       "      <td>0.902504</td>\n",
       "      <td>0.004852</td>\n",
       "      <td>9</td>\n",
       "    </tr>\n",
       "    <tr>\n",
       "      <th>2</th>\n",
       "      <td>0.004321</td>\n",
       "      <td>0.000754</td>\n",
       "      <td>0.000000</td>\n",
       "      <td>0.000000</td>\n",
       "      <td>2.78256</td>\n",
       "      <td>l1</td>\n",
       "      <td>{'C': 2.7825594022071245, 'penalty': 'l1'}</td>\n",
       "      <td>NaN</td>\n",
       "      <td>NaN</td>\n",
       "      <td>NaN</td>\n",
       "      <td>NaN</td>\n",
       "      <td>NaN</td>\n",
       "      <td>NaN</td>\n",
       "      <td>NaN</td>\n",
       "      <td>NaN</td>\n",
       "      <td>NaN</td>\n",
       "      <td>NaN</td>\n",
       "      <td>NaN</td>\n",
       "      <td>NaN</td>\n",
       "      <td>17</td>\n",
       "    </tr>\n",
       "    <tr>\n",
       "      <th>3</th>\n",
       "      <td>0.035836</td>\n",
       "      <td>0.001746</td>\n",
       "      <td>0.001014</td>\n",
       "      <td>0.000271</td>\n",
       "      <td>2.78256</td>\n",
       "      <td>l2</td>\n",
       "      <td>{'C': 2.7825594022071245, 'penalty': 'l2'}</td>\n",
       "      <td>0.89868</td>\n",
       "      <td>0.902235</td>\n",
       "      <td>0.89868</td>\n",
       "      <td>0.900965</td>\n",
       "      <td>0.897664</td>\n",
       "      <td>0.911122</td>\n",
       "      <td>0.906528</td>\n",
       "      <td>0.905766</td>\n",
       "      <td>0.895606</td>\n",
       "      <td>0.907798</td>\n",
       "      <td>0.902504</td>\n",
       "      <td>0.004815</td>\n",
       "      <td>10</td>\n",
       "    </tr>\n",
       "    <tr>\n",
       "      <th>4</th>\n",
       "      <td>0.004205</td>\n",
       "      <td>0.000850</td>\n",
       "      <td>0.000000</td>\n",
       "      <td>0.000000</td>\n",
       "      <td>7.74264</td>\n",
       "      <td>l1</td>\n",
       "      <td>{'C': 7.742636826811269, 'penalty': 'l1'}</td>\n",
       "      <td>NaN</td>\n",
       "      <td>NaN</td>\n",
       "      <td>NaN</td>\n",
       "      <td>NaN</td>\n",
       "      <td>NaN</td>\n",
       "      <td>NaN</td>\n",
       "      <td>NaN</td>\n",
       "      <td>NaN</td>\n",
       "      <td>NaN</td>\n",
       "      <td>NaN</td>\n",
       "      <td>NaN</td>\n",
       "      <td>NaN</td>\n",
       "      <td>14</td>\n",
       "    </tr>\n",
       "  </tbody>\n",
       "</table>\n",
       "</div>"
      ],
      "text/plain": [
       "   mean_fit_time  std_fit_time  mean_score_time  std_score_time  param_C  \\\n",
       "0       0.030207      0.013354         0.000000        0.000000        1   \n",
       "1       0.072401      0.026989         0.000982        0.000201        1   \n",
       "2       0.004321      0.000754         0.000000        0.000000  2.78256   \n",
       "3       0.035836      0.001746         0.001014        0.000271  2.78256   \n",
       "4       0.004205      0.000850         0.000000        0.000000  7.74264   \n",
       "\n",
       "  param_penalty                                      params  \\\n",
       "0            l1                 {'C': 1.0, 'penalty': 'l1'}   \n",
       "1            l2                 {'C': 1.0, 'penalty': 'l2'}   \n",
       "2            l1  {'C': 2.7825594022071245, 'penalty': 'l1'}   \n",
       "3            l2  {'C': 2.7825594022071245, 'penalty': 'l2'}   \n",
       "4            l1   {'C': 7.742636826811269, 'penalty': 'l1'}   \n",
       "\n",
       "   split0_test_score  split1_test_score  split2_test_score  split3_test_score  \\\n",
       "0                NaN                NaN                NaN                NaN   \n",
       "1            0.89868           0.902235            0.89868           0.900711   \n",
       "2                NaN                NaN                NaN                NaN   \n",
       "3            0.89868           0.902235            0.89868           0.900965   \n",
       "4                NaN                NaN                NaN                NaN   \n",
       "\n",
       "   split4_test_score  split5_test_score  split6_test_score  split7_test_score  \\\n",
       "0                NaN                NaN                NaN                NaN   \n",
       "1           0.897664           0.911122           0.906528           0.905766   \n",
       "2                NaN                NaN                NaN                NaN   \n",
       "3           0.897664           0.911122           0.906528           0.905766   \n",
       "4                NaN                NaN                NaN                NaN   \n",
       "\n",
       "   split8_test_score  split9_test_score  mean_test_score  std_test_score  \\\n",
       "0                NaN                NaN              NaN             NaN   \n",
       "1           0.895606           0.908052         0.902504        0.004852   \n",
       "2                NaN                NaN              NaN             NaN   \n",
       "3           0.895606           0.907798         0.902504        0.004815   \n",
       "4                NaN                NaN              NaN             NaN   \n",
       "\n",
       "   rank_test_score  \n",
       "0               20  \n",
       "1                9  \n",
       "2               17  \n",
       "3               10  \n",
       "4               14  "
      ]
     },
     "execution_count": 93,
     "metadata": {},
     "output_type": "execute_result"
    }
   ],
   "source": [
    "df2 = pd.DataFrame(grid.cv_results_)\n",
    "df2.head()"
   ]
  },
  {
   "cell_type": "code",
   "execution_count": 95,
   "metadata": {},
   "outputs": [
    {
     "data": {
      "text/html": [
       "<div>\n",
       "<style scoped>\n",
       "    .dataframe tbody tr th:only-of-type {\n",
       "        vertical-align: middle;\n",
       "    }\n",
       "\n",
       "    .dataframe tbody tr th {\n",
       "        vertical-align: top;\n",
       "    }\n",
       "\n",
       "    .dataframe thead th {\n",
       "        text-align: right;\n",
       "    }\n",
       "</style>\n",
       "<table border=\"1\" class=\"dataframe\">\n",
       "  <thead>\n",
       "    <tr style=\"text-align: right;\">\n",
       "      <th></th>\n",
       "      <th>param_C</th>\n",
       "      <th>param_penalty</th>\n",
       "      <th>params</th>\n",
       "      <th>mean_test_score</th>\n",
       "      <th>std_test_score</th>\n",
       "    </tr>\n",
       "  </thead>\n",
       "  <tbody>\n",
       "    <tr>\n",
       "      <th>5</th>\n",
       "      <td>7.74264</td>\n",
       "      <td>l2</td>\n",
       "      <td>{'C': 7.742636826811269, 'penalty': 'l2'}</td>\n",
       "      <td>0.90253</td>\n",
       "      <td>0.00479</td>\n",
       "    </tr>\n",
       "    <tr>\n",
       "      <th>7</th>\n",
       "      <td>21.5443</td>\n",
       "      <td>l2</td>\n",
       "      <td>{'C': 21.544346900318832, 'penalty': 'l2'}</td>\n",
       "      <td>0.90253</td>\n",
       "      <td>0.00479</td>\n",
       "    </tr>\n",
       "    <tr>\n",
       "      <th>9</th>\n",
       "      <td>59.9484</td>\n",
       "      <td>l2</td>\n",
       "      <td>{'C': 59.94842503189409, 'penalty': 'l2'}</td>\n",
       "      <td>0.90253</td>\n",
       "      <td>0.00479</td>\n",
       "    </tr>\n",
       "  </tbody>\n",
       "</table>\n",
       "</div>"
      ],
      "text/plain": [
       "   param_C param_penalty                                      params  \\\n",
       "5  7.74264            l2   {'C': 7.742636826811269, 'penalty': 'l2'}   \n",
       "7  21.5443            l2  {'C': 21.544346900318832, 'penalty': 'l2'}   \n",
       "9  59.9484            l2   {'C': 59.94842503189409, 'penalty': 'l2'}   \n",
       "\n",
       "   mean_test_score  std_test_score  \n",
       "5          0.90253         0.00479  \n",
       "7          0.90253         0.00479  \n",
       "9          0.90253         0.00479  "
      ]
     },
     "execution_count": 95,
     "metadata": {},
     "output_type": "execute_result"
    }
   ],
   "source": [
    "df2[[\"param_C\",\"param_penalty\", \"params\", \"mean_test_score\", \"std_test_score\"]].sort_values(by=['mean_test_score'],ascending=False).head(3)"
   ]
  },
  {
   "cell_type": "code",
   "execution_count": 48,
   "metadata": {},
   "outputs": [],
   "source": [
    "model = LogisticRegression(C=7.742636826811269, penalty= \"l2\", random_state=42)"
   ]
  },
  {
   "cell_type": "code",
   "execution_count": 49,
   "metadata": {},
   "outputs": [
    {
     "name": "stdout",
     "output_type": "stream",
     "text": [
      "Accuracy on training set after tuning: 0.903\n"
     ]
    }
   ],
   "source": [
    "# Train SVM\n",
    "clf= model.fit(X_resampled, y_resampled)\n",
    "print(\"Accuracy on training set after tuning: {:.3f}\".format(model.score(X_resampled,y_resampled)))"
   ]
  },
  {
   "cell_type": "code",
   "execution_count": 50,
   "metadata": {
    "scrolled": true
   },
   "outputs": [
    {
     "data": {
      "text/plain": [
       "<sklearn.metrics._plot.confusion_matrix.ConfusionMatrixDisplay at 0x11f932b0>"
      ]
     },
     "execution_count": 50,
     "metadata": {},
     "output_type": "execute_result"
    },
    {
     "data": {
      "image/png": "[encoded data removed]",
      "text/plain": [
       "<Figure size 432x288 with 2 Axes>"
      ]
     },
     "metadata": {
      "needs_background": "light"
     },
     "output_type": "display_data"
    }
   ],
   "source": [
    "plot_confusion_matrix(model, X_val, y_val, values_format='')"
   ]
  },
  {
   "cell_type": "code",
   "execution_count": 51,
   "metadata": {},
   "outputs": [],
   "source": [
    "y_pred = model.predict(X_val)"
   ]
  },
  {
   "cell_type": "code",
   "execution_count": 52,
   "metadata": {
    "scrolled": false
   },
   "outputs": [
    {
     "name": "stdout",
     "output_type": "stream",
     "text": [
      "Accurcay 0.9057293783015035\n",
      "Precision 0.9200167504187605\n",
      "Recall 0.8894736842105263\n",
      "F1 score 0.9044874433923425\n"
     ]
    }
   ],
   "source": [
    "print(\"Accurcay\",accuracy_score(y_val, y_pred))\n",
    "print(\"Precision\", precision_score(y_val, y_pred))\n",
    "print(\"Recall\",recall_score(y_val, y_pred))\n",
    "print(\"F1 score\",f1_score(y_val, y_pred))\n"
   ]
  },
  {
   "cell_type": "code",
   "execution_count": null,
   "metadata": {},
   "outputs": [],
   "source": []
  },
  {
   "cell_type": "markdown",
   "metadata": {},
   "source": [
    "# Testdata with tuning "
   ]
  },
  {
   "cell_type": "code",
   "execution_count": 38,
   "metadata": {},
   "outputs": [],
   "source": [
    "model = LogisticRegression(C=7.742636826811269, penalty= \"l2\").fit(X_resampled, y_resampled)\n"
   ]
  },
  {
   "cell_type": "code",
   "execution_count": 39,
   "metadata": {},
   "outputs": [
    {
     "data": {
      "text/plain": [
       "<sklearn.metrics._plot.confusion_matrix.ConfusionMatrixDisplay at 0x10a946d0>"
      ]
     },
     "execution_count": 39,
     "metadata": {},
     "output_type": "execute_result"
    },
    {
     "data": {
      "image/png": "[encoded data removed]",
      "text/plain": [
       "<Figure size 432x288 with 2 Axes>"
      ]
     },
     "metadata": {
      "needs_background": "light"
     },
     "output_type": "display_data"
    }
   ],
   "source": [
    "plot_confusion_matrix(model, X_test, y_test, values_format='')"
   ]
  },
  {
   "cell_type": "code",
   "execution_count": 40,
   "metadata": {},
   "outputs": [],
   "source": [
    "y_pred= model.predict(X_test)"
   ]
  },
  {
   "cell_type": "code",
   "execution_count": 41,
   "metadata": {},
   "outputs": [
    {
     "name": "stdout",
     "output_type": "stream",
     "text": [
      "              precision    recall  f1-score   support\n",
      "\n",
      "           0       0.83      0.91      0.87      3435\n",
      "           1       0.95      0.90      0.92      6096\n",
      "\n",
      "    accuracy                           0.90      9531\n",
      "   macro avg       0.89      0.91      0.90      9531\n",
      "weighted avg       0.91      0.90      0.90      9531\n",
      "\n"
     ]
    }
   ],
   "source": [
    "print(classification_report(y_test,y_pred))"
   ]
  },
  {
   "cell_type": "code",
   "execution_count": 42,
   "metadata": {},
   "outputs": [
    {
     "name": "stdout",
     "output_type": "stream",
     "text": [
      "Accurcay 0.9026335116986675\n",
      "Precision 0.9492350486787204\n",
      "Recall 0.8956692913385826\n",
      "F1 score 0.9216745442268737\n"
     ]
    }
   ],
   "source": [
    "print(\"Accurcay\",accuracy_score(y_test, y_pred))\n",
    "print(\"Precision\", precision_score(y_test, y_pred))\n",
    "print(\"Recall\",recall_score(y_test, y_pred))\n",
    "print(\"F1 score\",f1_score(y_test, y_pred))"
   ]
  },
  {
   "cell_type": "code",
   "execution_count": null,
   "metadata": {},
   "outputs": [],
   "source": []
  }
 ],
 "metadata": {
  "kernelspec": {
   "display_name": "Python 3",
   "language": "python",
   "name": "python3"
  },
  "language_info": {
   "codemirror_mode": {
    "name": "ipython",
    "version": 3
   },
   "file_extension": ".py",
   "mimetype": "text/x-python",
   "name": "python",
   "nbconvert_exporter": "python",
   "pygments_lexer": "ipython3",
   "version": "3.7.3"
  }
 },
 "nbformat": 4,
 "nbformat_minor": 2
}
