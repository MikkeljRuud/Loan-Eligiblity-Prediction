{
 "cells": [
  {
   "cell_type": "code",
   "execution_count": 59,
   "metadata": {},
   "outputs": [],
   "source": [
    "import pandas as pd\n",
    "import numpy as np\n",
    "from sklearn.metrics import accuracy_score, confusion_matrix\n",
    "from sklearn.model_selection import train_test_split\n",
    "from collections import Counter\n",
    "import os #this to change working directories\n",
    "import pandas_profiling\n",
    "from sklearn.base import clone\n",
    "import seaborn as sns\n",
    "from sklearn.preprocessing import StandardScaler\n",
    "import matplotlib.pyplot as plt\n",
    "#print(os.getcwd())\n",
    "from sklearn import tree\n",
    "from sklearn.tree import DecisionTreeClassifier\n",
    "from sklearn.metrics import confusion_matrix\n",
    "from sklearn.metrics import accuracy_score\n",
    "from sklearn.tree import plot_tree\n",
    "from matplotlib import pyplot\n",
    "from sklearn.model_selection import GridSearchCV\n",
    "from sklearn import metrics\n",
    "from sklearn.metrics import roc_curve\n",
    "from sklearn.metrics import roc_auc_score\n",
    "from sklearn.metrics import plot_confusion_matrix\n",
    "from imblearn.over_sampling import SMOTE\n",
    "from sklearn.metrics import precision_score, recall_score, accuracy_score, f1_score\n",
    "from sklearn.model_selection import cross_val_score\n",
    "from sklearn.svm import SVC\n",
    "from sklearn.metrics import accuracy_score\n",
    "from sklearn.metrics import classification_report\n"
   ]
  },
  {
   "cell_type": "code",
   "execution_count": 60,
   "metadata": {},
   "outputs": [],
   "source": [
    "df1=pd.read_csv('./data/borrower_table.csv')\n",
    "df2=pd.read_csv('./data/loan_table.csv')"
   ]
  },
  {
   "cell_type": "code",
   "execution_count": 61,
   "metadata": {},
   "outputs": [],
   "source": [
    "df= pd.merge(df1,df2,on=['loan_id'], how='inner')"
   ]
  },
  {
   "cell_type": "code",
   "execution_count": 62,
   "metadata": {},
   "outputs": [],
   "source": [
    "pd.set_option('display.max_rows', 2000)\n",
    "pd.set_option('display.max_columns', 500)"
   ]
  },
  {
   "cell_type": "markdown",
   "metadata": {},
   "source": [
    "# Pre-Processing"
   ]
  },
  {
   "cell_type": "code",
   "execution_count": 63,
   "metadata": {},
   "outputs": [],
   "source": [
    "df.set_index(['loan_id'], inplace=True)"
   ]
  },
  {
   "cell_type": "code",
   "execution_count": 64,
   "metadata": {},
   "outputs": [
    {
     "data": {
      "text/html": [
       "<div>\n",
       "<style scoped>\n",
       "    .dataframe tbody tr th:only-of-type {\n",
       "        vertical-align: middle;\n",
       "    }\n",
       "\n",
       "    .dataframe tbody tr th {\n",
       "        vertical-align: top;\n",
       "    }\n",
       "\n",
       "    .dataframe thead th {\n",
       "        text-align: right;\n",
       "    }\n",
       "</style>\n",
       "<table border=\"1\" class=\"dataframe\">\n",
       "  <thead>\n",
       "    <tr style=\"text-align: right;\">\n",
       "      <th></th>\n",
       "      <th>is_first_loan</th>\n",
       "      <th>fully_repaid_previous_loans</th>\n",
       "      <th>currently_repaying_other_loans</th>\n",
       "      <th>total_credit_card_limit</th>\n",
       "      <th>avg_percentage_credit_card_limit_used_last_year</th>\n",
       "      <th>saving_amount</th>\n",
       "      <th>checking_amount</th>\n",
       "      <th>is_employed</th>\n",
       "      <th>yearly_salary</th>\n",
       "      <th>age</th>\n",
       "      <th>dependent_number</th>\n",
       "      <th>loan_purpose</th>\n",
       "      <th>date</th>\n",
       "      <th>loan_granted</th>\n",
       "      <th>loan_repaid</th>\n",
       "    </tr>\n",
       "    <tr>\n",
       "      <th>loan_id</th>\n",
       "      <th></th>\n",
       "      <th></th>\n",
       "      <th></th>\n",
       "      <th></th>\n",
       "      <th></th>\n",
       "      <th></th>\n",
       "      <th></th>\n",
       "      <th></th>\n",
       "      <th></th>\n",
       "      <th></th>\n",
       "      <th></th>\n",
       "      <th></th>\n",
       "      <th></th>\n",
       "      <th></th>\n",
       "      <th></th>\n",
       "    </tr>\n",
       "  </thead>\n",
       "  <tbody>\n",
       "    <tr>\n",
       "      <th>289774</th>\n",
       "      <td>1</td>\n",
       "      <td>NaN</td>\n",
       "      <td>NaN</td>\n",
       "      <td>8000</td>\n",
       "      <td>0.49</td>\n",
       "      <td>3285</td>\n",
       "      <td>1073</td>\n",
       "      <td>0</td>\n",
       "      <td>0</td>\n",
       "      <td>47</td>\n",
       "      <td>3</td>\n",
       "      <td>business</td>\n",
       "      <td>2012-01-31</td>\n",
       "      <td>0</td>\n",
       "      <td>NaN</td>\n",
       "    </tr>\n",
       "    <tr>\n",
       "      <th>482590</th>\n",
       "      <td>0</td>\n",
       "      <td>1.0</td>\n",
       "      <td>0.0</td>\n",
       "      <td>4500</td>\n",
       "      <td>1.03</td>\n",
       "      <td>636</td>\n",
       "      <td>5299</td>\n",
       "      <td>1</td>\n",
       "      <td>13500</td>\n",
       "      <td>33</td>\n",
       "      <td>1</td>\n",
       "      <td>investment</td>\n",
       "      <td>2012-11-02</td>\n",
       "      <td>0</td>\n",
       "      <td>NaN</td>\n",
       "    </tr>\n",
       "    <tr>\n",
       "      <th>135565</th>\n",
       "      <td>1</td>\n",
       "      <td>NaN</td>\n",
       "      <td>NaN</td>\n",
       "      <td>6900</td>\n",
       "      <td>0.82</td>\n",
       "      <td>2085</td>\n",
       "      <td>3422</td>\n",
       "      <td>1</td>\n",
       "      <td>24500</td>\n",
       "      <td>38</td>\n",
       "      <td>8</td>\n",
       "      <td>other</td>\n",
       "      <td>2012-07-16</td>\n",
       "      <td>1</td>\n",
       "      <td>1.0</td>\n",
       "    </tr>\n",
       "    <tr>\n",
       "      <th>207797</th>\n",
       "      <td>0</td>\n",
       "      <td>1.0</td>\n",
       "      <td>0.0</td>\n",
       "      <td>1200</td>\n",
       "      <td>0.82</td>\n",
       "      <td>358</td>\n",
       "      <td>3388</td>\n",
       "      <td>0</td>\n",
       "      <td>0</td>\n",
       "      <td>24</td>\n",
       "      <td>1</td>\n",
       "      <td>investment</td>\n",
       "      <td>2012-06-05</td>\n",
       "      <td>0</td>\n",
       "      <td>NaN</td>\n",
       "    </tr>\n",
       "    <tr>\n",
       "      <th>828078</th>\n",
       "      <td>0</td>\n",
       "      <td>0.0</td>\n",
       "      <td>0.0</td>\n",
       "      <td>6900</td>\n",
       "      <td>0.80</td>\n",
       "      <td>2138</td>\n",
       "      <td>4282</td>\n",
       "      <td>1</td>\n",
       "      <td>18100</td>\n",
       "      <td>36</td>\n",
       "      <td>1</td>\n",
       "      <td>emergency_funds</td>\n",
       "      <td>2012-11-28</td>\n",
       "      <td>0</td>\n",
       "      <td>NaN</td>\n",
       "    </tr>\n",
       "  </tbody>\n",
       "</table>\n",
       "</div>"
      ],
      "text/plain": [
       "         is_first_loan  fully_repaid_previous_loans  \\\n",
       "loan_id                                               \n",
       "289774               1                          NaN   \n",
       "482590               0                          1.0   \n",
       "135565               1                          NaN   \n",
       "207797               0                          1.0   \n",
       "828078               0                          0.0   \n",
       "\n",
       "         currently_repaying_other_loans  total_credit_card_limit  \\\n",
       "loan_id                                                            \n",
       "289774                              NaN                     8000   \n",
       "482590                              0.0                     4500   \n",
       "135565                              NaN                     6900   \n",
       "207797                              0.0                     1200   \n",
       "828078                              0.0                     6900   \n",
       "\n",
       "         avg_percentage_credit_card_limit_used_last_year  saving_amount  \\\n",
       "loan_id                                                                   \n",
       "289774                                              0.49           3285   \n",
       "482590                                              1.03            636   \n",
       "135565                                              0.82           2085   \n",
       "207797                                              0.82            358   \n",
       "828078                                              0.80           2138   \n",
       "\n",
       "         checking_amount  is_employed  yearly_salary  age  dependent_number  \\\n",
       "loan_id                                                                       \n",
       "289774              1073            0              0   47                 3   \n",
       "482590              5299            1          13500   33                 1   \n",
       "135565              3422            1          24500   38                 8   \n",
       "207797              3388            0              0   24                 1   \n",
       "828078              4282            1          18100   36                 1   \n",
       "\n",
       "            loan_purpose        date  loan_granted  loan_repaid  \n",
       "loan_id                                                          \n",
       "289774          business  2012-01-31             0          NaN  \n",
       "482590        investment  2012-11-02             0          NaN  \n",
       "135565             other  2012-07-16             1          1.0  \n",
       "207797        investment  2012-06-05             0          NaN  \n",
       "828078   emergency_funds  2012-11-28             0          NaN  "
      ]
     },
     "execution_count": 64,
     "metadata": {},
     "output_type": "execute_result"
    }
   ],
   "source": [
    "df.head(5)"
   ]
  },
  {
   "cell_type": "code",
   "execution_count": 65,
   "metadata": {},
   "outputs": [
    {
     "data": {
      "text/plain": [
       "53446"
      ]
     },
     "execution_count": 65,
     "metadata": {},
     "output_type": "execute_result"
    }
   ],
   "source": [
    "df[\"loan_repaid\"].isnull().sum()"
   ]
  },
  {
   "cell_type": "code",
   "execution_count": 66,
   "metadata": {},
   "outputs": [],
   "source": [
    "df.dropna(subset=[\"loan_repaid\"], inplace=True)"
   ]
  },
  {
   "cell_type": "code",
   "execution_count": 67,
   "metadata": {},
   "outputs": [
    {
     "data": {
      "text/html": [
       "<div>\n",
       "<style scoped>\n",
       "    .dataframe tbody tr th:only-of-type {\n",
       "        vertical-align: middle;\n",
       "    }\n",
       "\n",
       "    .dataframe tbody tr th {\n",
       "        vertical-align: top;\n",
       "    }\n",
       "\n",
       "    .dataframe thead th {\n",
       "        text-align: right;\n",
       "    }\n",
       "</style>\n",
       "<table border=\"1\" class=\"dataframe\">\n",
       "  <thead>\n",
       "    <tr style=\"text-align: right;\">\n",
       "      <th></th>\n",
       "      <th>is_first_loan</th>\n",
       "      <th>fully_repaid_previous_loans</th>\n",
       "      <th>currently_repaying_other_loans</th>\n",
       "      <th>total_credit_card_limit</th>\n",
       "      <th>avg_percentage_credit_card_limit_used_last_year</th>\n",
       "      <th>saving_amount</th>\n",
       "      <th>checking_amount</th>\n",
       "      <th>is_employed</th>\n",
       "      <th>yearly_salary</th>\n",
       "      <th>age</th>\n",
       "      <th>dependent_number</th>\n",
       "      <th>loan_purpose</th>\n",
       "      <th>date</th>\n",
       "      <th>loan_granted</th>\n",
       "      <th>loan_repaid</th>\n",
       "    </tr>\n",
       "    <tr>\n",
       "      <th>loan_id</th>\n",
       "      <th></th>\n",
       "      <th></th>\n",
       "      <th></th>\n",
       "      <th></th>\n",
       "      <th></th>\n",
       "      <th></th>\n",
       "      <th></th>\n",
       "      <th></th>\n",
       "      <th></th>\n",
       "      <th></th>\n",
       "      <th></th>\n",
       "      <th></th>\n",
       "      <th></th>\n",
       "      <th></th>\n",
       "      <th></th>\n",
       "    </tr>\n",
       "  </thead>\n",
       "  <tbody>\n",
       "    <tr>\n",
       "      <th>135565</th>\n",
       "      <td>1</td>\n",
       "      <td>NaN</td>\n",
       "      <td>NaN</td>\n",
       "      <td>6900</td>\n",
       "      <td>0.82</td>\n",
       "      <td>2085</td>\n",
       "      <td>3422</td>\n",
       "      <td>1</td>\n",
       "      <td>24500</td>\n",
       "      <td>38</td>\n",
       "      <td>8</td>\n",
       "      <td>other</td>\n",
       "      <td>2012-07-16</td>\n",
       "      <td>1</td>\n",
       "      <td>1.0</td>\n",
       "    </tr>\n",
       "    <tr>\n",
       "      <th>423171</th>\n",
       "      <td>1</td>\n",
       "      <td>NaN</td>\n",
       "      <td>NaN</td>\n",
       "      <td>6100</td>\n",
       "      <td>0.53</td>\n",
       "      <td>6163</td>\n",
       "      <td>5298</td>\n",
       "      <td>1</td>\n",
       "      <td>29500</td>\n",
       "      <td>24</td>\n",
       "      <td>1</td>\n",
       "      <td>other</td>\n",
       "      <td>2012-11-07</td>\n",
       "      <td>1</td>\n",
       "      <td>1.0</td>\n",
       "    </tr>\n",
       "    <tr>\n",
       "      <th>200139</th>\n",
       "      <td>1</td>\n",
       "      <td>NaN</td>\n",
       "      <td>NaN</td>\n",
       "      <td>4000</td>\n",
       "      <td>0.57</td>\n",
       "      <td>602</td>\n",
       "      <td>2757</td>\n",
       "      <td>1</td>\n",
       "      <td>31700</td>\n",
       "      <td>36</td>\n",
       "      <td>8</td>\n",
       "      <td>business</td>\n",
       "      <td>2012-09-19</td>\n",
       "      <td>1</td>\n",
       "      <td>0.0</td>\n",
       "    </tr>\n",
       "    <tr>\n",
       "      <th>991294</th>\n",
       "      <td>0</td>\n",
       "      <td>1.0</td>\n",
       "      <td>0.0</td>\n",
       "      <td>7000</td>\n",
       "      <td>0.52</td>\n",
       "      <td>2575</td>\n",
       "      <td>2917</td>\n",
       "      <td>1</td>\n",
       "      <td>58900</td>\n",
       "      <td>33</td>\n",
       "      <td>3</td>\n",
       "      <td>emergency_funds</td>\n",
       "      <td>2012-12-04</td>\n",
       "      <td>1</td>\n",
       "      <td>1.0</td>\n",
       "    </tr>\n",
       "    <tr>\n",
       "      <th>875332</th>\n",
       "      <td>0</td>\n",
       "      <td>1.0</td>\n",
       "      <td>0.0</td>\n",
       "      <td>4300</td>\n",
       "      <td>0.83</td>\n",
       "      <td>722</td>\n",
       "      <td>892</td>\n",
       "      <td>1</td>\n",
       "      <td>5400</td>\n",
       "      <td>32</td>\n",
       "      <td>7</td>\n",
       "      <td>business</td>\n",
       "      <td>2012-01-20</td>\n",
       "      <td>1</td>\n",
       "      <td>1.0</td>\n",
       "    </tr>\n",
       "    <tr>\n",
       "      <th>954215</th>\n",
       "      <td>1</td>\n",
       "      <td>NaN</td>\n",
       "      <td>NaN</td>\n",
       "      <td>7000</td>\n",
       "      <td>0.64</td>\n",
       "      <td>2113</td>\n",
       "      <td>5589</td>\n",
       "      <td>0</td>\n",
       "      <td>0</td>\n",
       "      <td>40</td>\n",
       "      <td>2</td>\n",
       "      <td>business</td>\n",
       "      <td>2012-08-09</td>\n",
       "      <td>1</td>\n",
       "      <td>1.0</td>\n",
       "    </tr>\n",
       "    <tr>\n",
       "      <th>778076</th>\n",
       "      <td>1</td>\n",
       "      <td>NaN</td>\n",
       "      <td>NaN</td>\n",
       "      <td>4900</td>\n",
       "      <td>0.60</td>\n",
       "      <td>460</td>\n",
       "      <td>4297</td>\n",
       "      <td>1</td>\n",
       "      <td>26600</td>\n",
       "      <td>53</td>\n",
       "      <td>3</td>\n",
       "      <td>business</td>\n",
       "      <td>2012-05-10</td>\n",
       "      <td>1</td>\n",
       "      <td>1.0</td>\n",
       "    </tr>\n",
       "    <tr>\n",
       "      <th>73441</th>\n",
       "      <td>0</td>\n",
       "      <td>1.0</td>\n",
       "      <td>0.0</td>\n",
       "      <td>3900</td>\n",
       "      <td>0.77</td>\n",
       "      <td>989</td>\n",
       "      <td>1547</td>\n",
       "      <td>1</td>\n",
       "      <td>45700</td>\n",
       "      <td>29</td>\n",
       "      <td>4</td>\n",
       "      <td>emergency_funds</td>\n",
       "      <td>2012-11-08</td>\n",
       "      <td>1</td>\n",
       "      <td>1.0</td>\n",
       "    </tr>\n",
       "    <tr>\n",
       "      <th>249377</th>\n",
       "      <td>1</td>\n",
       "      <td>NaN</td>\n",
       "      <td>NaN</td>\n",
       "      <td>5500</td>\n",
       "      <td>0.59</td>\n",
       "      <td>1154</td>\n",
       "      <td>2731</td>\n",
       "      <td>1</td>\n",
       "      <td>9300</td>\n",
       "      <td>51</td>\n",
       "      <td>2</td>\n",
       "      <td>business</td>\n",
       "      <td>2012-09-18</td>\n",
       "      <td>1</td>\n",
       "      <td>1.0</td>\n",
       "    </tr>\n",
       "    <tr>\n",
       "      <th>387504</th>\n",
       "      <td>0</td>\n",
       "      <td>1.0</td>\n",
       "      <td>0.0</td>\n",
       "      <td>5300</td>\n",
       "      <td>0.69</td>\n",
       "      <td>1172</td>\n",
       "      <td>3323</td>\n",
       "      <td>1</td>\n",
       "      <td>32500</td>\n",
       "      <td>30</td>\n",
       "      <td>1</td>\n",
       "      <td>investment</td>\n",
       "      <td>2012-10-03</td>\n",
       "      <td>1</td>\n",
       "      <td>1.0</td>\n",
       "    </tr>\n",
       "  </tbody>\n",
       "</table>\n",
       "</div>"
      ],
      "text/plain": [
       "         is_first_loan  fully_repaid_previous_loans  \\\n",
       "loan_id                                               \n",
       "135565               1                          NaN   \n",
       "423171               1                          NaN   \n",
       "200139               1                          NaN   \n",
       "991294               0                          1.0   \n",
       "875332               0                          1.0   \n",
       "954215               1                          NaN   \n",
       "778076               1                          NaN   \n",
       "73441                0                          1.0   \n",
       "249377               1                          NaN   \n",
       "387504               0                          1.0   \n",
       "\n",
       "         currently_repaying_other_loans  total_credit_card_limit  \\\n",
       "loan_id                                                            \n",
       "135565                              NaN                     6900   \n",
       "423171                              NaN                     6100   \n",
       "200139                              NaN                     4000   \n",
       "991294                              0.0                     7000   \n",
       "875332                              0.0                     4300   \n",
       "954215                              NaN                     7000   \n",
       "778076                              NaN                     4900   \n",
       "73441                               0.0                     3900   \n",
       "249377                              NaN                     5500   \n",
       "387504                              0.0                     5300   \n",
       "\n",
       "         avg_percentage_credit_card_limit_used_last_year  saving_amount  \\\n",
       "loan_id                                                                   \n",
       "135565                                              0.82           2085   \n",
       "423171                                              0.53           6163   \n",
       "200139                                              0.57            602   \n",
       "991294                                              0.52           2575   \n",
       "875332                                              0.83            722   \n",
       "954215                                              0.64           2113   \n",
       "778076                                              0.60            460   \n",
       "73441                                               0.77            989   \n",
       "249377                                              0.59           1154   \n",
       "387504                                              0.69           1172   \n",
       "\n",
       "         checking_amount  is_employed  yearly_salary  age  dependent_number  \\\n",
       "loan_id                                                                       \n",
       "135565              3422            1          24500   38                 8   \n",
       "423171              5298            1          29500   24                 1   \n",
       "200139              2757            1          31700   36                 8   \n",
       "991294              2917            1          58900   33                 3   \n",
       "875332               892            1           5400   32                 7   \n",
       "954215              5589            0              0   40                 2   \n",
       "778076              4297            1          26600   53                 3   \n",
       "73441               1547            1          45700   29                 4   \n",
       "249377              2731            1           9300   51                 2   \n",
       "387504              3323            1          32500   30                 1   \n",
       "\n",
       "            loan_purpose        date  loan_granted  loan_repaid  \n",
       "loan_id                                                          \n",
       "135565             other  2012-07-16             1          1.0  \n",
       "423171             other  2012-11-07             1          1.0  \n",
       "200139          business  2012-09-19             1          0.0  \n",
       "991294   emergency_funds  2012-12-04             1          1.0  \n",
       "875332          business  2012-01-20             1          1.0  \n",
       "954215          business  2012-08-09             1          1.0  \n",
       "778076          business  2012-05-10             1          1.0  \n",
       "73441    emergency_funds  2012-11-08             1          1.0  \n",
       "249377          business  2012-09-18             1          1.0  \n",
       "387504        investment  2012-10-03             1          1.0  "
      ]
     },
     "execution_count": 67,
     "metadata": {},
     "output_type": "execute_result"
    }
   ],
   "source": [
    "df.head(10)"
   ]
  },
  {
   "cell_type": "code",
   "execution_count": 68,
   "metadata": {},
   "outputs": [
    {
     "name": "stdout",
     "output_type": "stream",
     "text": [
      "Positive examples = 30706\n",
      "Negative examples = 16948\n",
      "Proportion of positive to negative examples = 55.19%\n"
     ]
    },
    {
     "data": {
      "image/png": "[encoded data removed]",
      "text/plain": [
       "<Figure size 576x432 with 1 Axes>"
      ]
     },
     "metadata": {
      "needs_background": "light"
     },
     "output_type": "display_data"
    }
   ],
   "source": [
    "# Get number of positve and negative examples\n",
    "pos = df[df[\"loan_repaid\"] == 1].shape[0]\n",
    "neg = df[df[\"loan_repaid\"] == 0].shape[0]\n",
    "print(f\"Positive examples = {pos}\")\n",
    "print(f\"Negative examples = {neg}\")\n",
    "print(f\"Proportion of positive to negative examples = {(neg/pos) * 100:.2f}%\")\n",
    "plt.figure(figsize=(8, 6))\n",
    "sns.countplot(df[\"loan_repaid\"])\n",
    "plt.xticks((0, 1), [\"Paid fully\", \"Not paid fully\"])\n",
    "plt.xlabel(\"\")\n",
    "plt.ylabel(\"Count\")\n",
    "plt.title(\"Class counts\", y=1, fontdict={\"fontsize\": 20});"
   ]
  },
  {
   "cell_type": "code",
   "execution_count": 69,
   "metadata": {},
   "outputs": [],
   "source": [
    "#Drop Loan_granted and Date\n",
    "df.drop([\"loan_granted\",\"date\"], axis='columns', inplace=True)"
   ]
  },
  {
   "cell_type": "code",
   "execution_count": 70,
   "metadata": {},
   "outputs": [],
   "source": [
    "#list of conditions(1=Other, 2=Emergency_funds, 3=Business, 4= Home, 5= Investment)\n",
    "conditions = [\n",
    "    (df['loan_purpose'] == \"other\"),\n",
    "    (df['loan_purpose'] == \"emergency_funds\"),\n",
    "    (df['loan_purpose'] == \"business\"),\n",
    "    (df['loan_purpose'] == \"home\"),\n",
    "    (df['loan_purpose'] == \"investment\"),\n",
    "    ]"
   ]
  },
  {
   "cell_type": "code",
   "execution_count": 71,
   "metadata": {},
   "outputs": [],
   "source": [
    "# create a list of the values we want to assign for each condition\n",
    "values = [1, 2, 3, 4, 5]\n"
   ]
  },
  {
   "cell_type": "code",
   "execution_count": 72,
   "metadata": {},
   "outputs": [],
   "source": [
    "# create a new column and use np.select to assign values to it using our lists as arguments\n",
    "df['loan_purpose'] = np.select(conditions, values)"
   ]
  },
  {
   "cell_type": "code",
   "execution_count": 73,
   "metadata": {},
   "outputs": [],
   "source": [
    "#Fill NA\n",
    "df['fully_repaid_previous_loans'] = df['fully_repaid_previous_loans'].fillna(0)\n",
    "df['currently_repaying_other_loans'] = df['currently_repaying_other_loans'].fillna(0)\n",
    "df['avg_percentage_credit_card_limit_used_last_year'] = df['avg_percentage_credit_card_limit_used_last_year'].fillna(0)"
   ]
  },
  {
   "cell_type": "code",
   "execution_count": 74,
   "metadata": {},
   "outputs": [],
   "source": [
    "#Change to integers only\n",
    "#df.astype(int)\n",
    "df.loan_repaid = df.loan_repaid.apply(int) # round instead of int is you prefer to round\n",
    "df.fully_repaid_previous_loans = df.fully_repaid_previous_loans.apply(int) \n",
    "df.currently_repaying_other_loans = df.currently_repaying_other_loans.apply(int) \n"
   ]
  },
  {
   "cell_type": "code",
   "execution_count": 75,
   "metadata": {},
   "outputs": [],
   "source": [
    "#df.drop([\"is_employed\", \"avg_percentage_credit_card_limit_used_last_year\", \"fully_repaid_previous_loans\", \"currently_repaying_other_loans\"], axis='columns', inplace=True)\n",
    "df.drop([\"is_employed\", \"avg_percentage_credit_card_limit_used_last_year\", \"fully_repaid_previous_loans\"], axis='columns', inplace=True)"
   ]
  },
  {
   "cell_type": "code",
   "execution_count": 76,
   "metadata": {},
   "outputs": [
    {
     "data": {
      "text/html": [
       "<div>\n",
       "<style scoped>\n",
       "    .dataframe tbody tr th:only-of-type {\n",
       "        vertical-align: middle;\n",
       "    }\n",
       "\n",
       "    .dataframe tbody tr th {\n",
       "        vertical-align: top;\n",
       "    }\n",
       "\n",
       "    .dataframe thead th {\n",
       "        text-align: right;\n",
       "    }\n",
       "</style>\n",
       "<table border=\"1\" class=\"dataframe\">\n",
       "  <thead>\n",
       "    <tr style=\"text-align: right;\">\n",
       "      <th></th>\n",
       "      <th>is_first_loan</th>\n",
       "      <th>currently_repaying_other_loans</th>\n",
       "      <th>total_credit_card_limit</th>\n",
       "      <th>saving_amount</th>\n",
       "      <th>checking_amount</th>\n",
       "      <th>yearly_salary</th>\n",
       "      <th>age</th>\n",
       "      <th>dependent_number</th>\n",
       "      <th>loan_purpose</th>\n",
       "      <th>loan_repaid</th>\n",
       "    </tr>\n",
       "    <tr>\n",
       "      <th>loan_id</th>\n",
       "      <th></th>\n",
       "      <th></th>\n",
       "      <th></th>\n",
       "      <th></th>\n",
       "      <th></th>\n",
       "      <th></th>\n",
       "      <th></th>\n",
       "      <th></th>\n",
       "      <th></th>\n",
       "      <th></th>\n",
       "    </tr>\n",
       "  </thead>\n",
       "  <tbody>\n",
       "    <tr>\n",
       "      <th>135565</th>\n",
       "      <td>1</td>\n",
       "      <td>0</td>\n",
       "      <td>6900</td>\n",
       "      <td>2085</td>\n",
       "      <td>3422</td>\n",
       "      <td>24500</td>\n",
       "      <td>38</td>\n",
       "      <td>8</td>\n",
       "      <td>1</td>\n",
       "      <td>1</td>\n",
       "    </tr>\n",
       "    <tr>\n",
       "      <th>423171</th>\n",
       "      <td>1</td>\n",
       "      <td>0</td>\n",
       "      <td>6100</td>\n",
       "      <td>6163</td>\n",
       "      <td>5298</td>\n",
       "      <td>29500</td>\n",
       "      <td>24</td>\n",
       "      <td>1</td>\n",
       "      <td>1</td>\n",
       "      <td>1</td>\n",
       "    </tr>\n",
       "    <tr>\n",
       "      <th>200139</th>\n",
       "      <td>1</td>\n",
       "      <td>0</td>\n",
       "      <td>4000</td>\n",
       "      <td>602</td>\n",
       "      <td>2757</td>\n",
       "      <td>31700</td>\n",
       "      <td>36</td>\n",
       "      <td>8</td>\n",
       "      <td>3</td>\n",
       "      <td>0</td>\n",
       "    </tr>\n",
       "    <tr>\n",
       "      <th>991294</th>\n",
       "      <td>0</td>\n",
       "      <td>0</td>\n",
       "      <td>7000</td>\n",
       "      <td>2575</td>\n",
       "      <td>2917</td>\n",
       "      <td>58900</td>\n",
       "      <td>33</td>\n",
       "      <td>3</td>\n",
       "      <td>2</td>\n",
       "      <td>1</td>\n",
       "    </tr>\n",
       "    <tr>\n",
       "      <th>875332</th>\n",
       "      <td>0</td>\n",
       "      <td>0</td>\n",
       "      <td>4300</td>\n",
       "      <td>722</td>\n",
       "      <td>892</td>\n",
       "      <td>5400</td>\n",
       "      <td>32</td>\n",
       "      <td>7</td>\n",
       "      <td>3</td>\n",
       "      <td>1</td>\n",
       "    </tr>\n",
       "  </tbody>\n",
       "</table>\n",
       "</div>"
      ],
      "text/plain": [
       "         is_first_loan  currently_repaying_other_loans  \\\n",
       "loan_id                                                  \n",
       "135565               1                               0   \n",
       "423171               1                               0   \n",
       "200139               1                               0   \n",
       "991294               0                               0   \n",
       "875332               0                               0   \n",
       "\n",
       "         total_credit_card_limit  saving_amount  checking_amount  \\\n",
       "loan_id                                                            \n",
       "135565                      6900           2085             3422   \n",
       "423171                      6100           6163             5298   \n",
       "200139                      4000            602             2757   \n",
       "991294                      7000           2575             2917   \n",
       "875332                      4300            722              892   \n",
       "\n",
       "         yearly_salary  age  dependent_number  loan_purpose  loan_repaid  \n",
       "loan_id                                                                   \n",
       "135565           24500   38                 8             1            1  \n",
       "423171           29500   24                 1             1            1  \n",
       "200139           31700   36                 8             3            0  \n",
       "991294           58900   33                 3             2            1  \n",
       "875332            5400   32                 7             3            1  "
      ]
     },
     "execution_count": 76,
     "metadata": {},
     "output_type": "execute_result"
    }
   ],
   "source": [
    "df.head(5)"
   ]
  },
  {
   "cell_type": "code",
   "execution_count": null,
   "metadata": {},
   "outputs": [],
   "source": []
  },
  {
   "cell_type": "markdown",
   "metadata": {},
   "source": [
    "# PREDICTIVE MACHINE LEARNING MODEL"
   ]
  },
  {
   "cell_type": "code",
   "execution_count": 77,
   "metadata": {},
   "outputs": [],
   "source": [
    "X = df.copy(deep=True)"
   ]
  },
  {
   "cell_type": "code",
   "execution_count": 78,
   "metadata": {
    "scrolled": true
   },
   "outputs": [
    {
     "name": "stdout",
     "output_type": "stream",
     "text": [
      "16948\n",
      "30706\n"
     ]
    }
   ],
   "source": [
    "y = X.pop('loan_repaid')\n",
    "count = y.count()\n",
    "print(np.count_nonzero(y < 1))\n",
    "print(np.count_nonzero(y >= 1))"
   ]
  },
  {
   "cell_type": "code",
   "execution_count": 79,
   "metadata": {},
   "outputs": [],
   "source": [
    "ss= StandardScaler()\n",
    "X= ss.fit_transform(X)"
   ]
  },
  {
   "cell_type": "code",
   "execution_count": 80,
   "metadata": {},
   "outputs": [
    {
     "data": {
      "text/plain": [
       "Text(0.5, 1, 'Heatmap of correlation')"
      ]
     },
     "execution_count": 80,
     "metadata": {},
     "output_type": "execute_result"
    },
    {
     "data": {
      "image/png": "[encoded data removed]",
      "text/plain": [
       "<Figure size 864x720 with 2 Axes>"
      ]
     },
     "metadata": {
      "needs_background": "light"
     },
     "output_type": "display_data"
    }
   ],
   "source": [
    "corr = df.corr()\n",
    "plt.figure(figsize=(12,10))\n",
    "heat=sns.heatmap(data=corr, annot=True, fmt=\".2f\")\n",
    "plt.title('Heatmap of correlation')"
   ]
  },
  {
   "cell_type": "code",
   "execution_count": 81,
   "metadata": {},
   "outputs": [],
   "source": [
    "X_train, X_test, y_train, y_test = train_test_split(\n",
    "    X, y, random_state=42, test_size = .20)"
   ]
  },
  {
   "cell_type": "code",
   "execution_count": 82,
   "metadata": {},
   "outputs": [
    {
     "name": "stdout",
     "output_type": "stream",
     "text": [
      "13513\n",
      "24610\n"
     ]
    }
   ],
   "source": [
    "count = y_train.count()\n",
    "print(np.count_nonzero(y_train < 1))\n",
    "print(np.count_nonzero(y_train >= 1))"
   ]
  },
  {
   "cell_type": "code",
   "execution_count": 83,
   "metadata": {},
   "outputs": [
    {
     "name": "stdout",
     "output_type": "stream",
     "text": [
      "smote target shape Counter({0: 24610, 1: 24610})\n"
     ]
    }
   ],
   "source": [
    "#SMOTE resmapling\n",
    "X_resampled, y_resampled = SMOTE().fit_resample(X_train, y_train)\n",
    "print('smote target shape %s' % Counter(y_resampled))"
   ]
  },
  {
   "cell_type": "code",
   "execution_count": 84,
   "metadata": {},
   "outputs": [],
   "source": [
    "X_resampled, X_val, y_resampled, y_val = train_test_split(\n",
    "    X_resampled, y_resampled, test_size=0.25, random_state=42)"
   ]
  },
  {
   "cell_type": "markdown",
   "metadata": {},
   "source": [
    "# CREATE THE MODEL (without tuning)"
   ]
  },
  {
   "cell_type": "code",
   "execution_count": 85,
   "metadata": {},
   "outputs": [],
   "source": [
    "model= SVC(random_state=42).fit(X_resampled, y_resampled)"
   ]
  },
  {
   "cell_type": "code",
   "execution_count": 28,
   "metadata": {},
   "outputs": [
    {
     "data": {
      "text/plain": [
       "<sklearn.metrics._plot.confusion_matrix.ConfusionMatrixDisplay at 0xdb15c90>"
      ]
     },
     "execution_count": 28,
     "metadata": {},
     "output_type": "execute_result"
    },
    {
     "data": {
      "image/png": "[encoded data removed]",
      "text/plain": [
       "<Figure size 432x288 with 2 Axes>"
      ]
     },
     "metadata": {
      "needs_background": "light"
     },
     "output_type": "display_data"
    }
   ],
   "source": [
    "plot_confusion_matrix(model, X_val, y_val, values_format='')"
   ]
  },
  {
   "cell_type": "code",
   "execution_count": 32,
   "metadata": {},
   "outputs": [],
   "source": [
    "# predict the training data\n",
    "y_pred= model.predict(X_val)"
   ]
  },
  {
   "cell_type": "code",
   "execution_count": 33,
   "metadata": {},
   "outputs": [
    {
     "name": "stdout",
     "output_type": "stream",
     "text": [
      "              precision    recall  f1-score   support\n",
      "\n",
      "           0       0.90      0.96      0.93      6110\n",
      "           1       0.96      0.89      0.92      6195\n",
      "\n",
      "    accuracy                           0.93     12305\n",
      "   macro avg       0.93      0.93      0.93     12305\n",
      "weighted avg       0.93      0.93      0.93     12305\n",
      "\n"
     ]
    }
   ],
   "source": [
    "print(classification_report(y_val,y_pred))"
   ]
  },
  {
   "cell_type": "code",
   "execution_count": 34,
   "metadata": {},
   "outputs": [
    {
     "name": "stdout",
     "output_type": "stream",
     "text": [
      "Accurcay 0.9256399837464445\n",
      "Precision 0.9558011049723757\n",
      "Recall 0.8936238902340597\n",
      "F1 score 0.9236673062484358\n"
     ]
    }
   ],
   "source": [
    "print(\"Accurcay\",accuracy_score(y_val, y_pred))\n",
    "print(\"Precision\", precision_score(y_val, y_pred))\n",
    "print(\"Recall\",recall_score(y_val, y_pred))\n",
    "print(\"F1 score\",f1_score(y_val, y_pred))"
   ]
  },
  {
   "cell_type": "code",
   "execution_count": 35,
   "metadata": {},
   "outputs": [
    {
     "name": "stdout",
     "output_type": "stream",
     "text": [
      "Accuracy on training set before tuning: 0.929\n"
     ]
    }
   ],
   "source": [
    "print(\"Accuracy on training set before tuning: {:.3f}\".format(model.score(X_resampled,y_resampled)))"
   ]
  },
  {
   "cell_type": "markdown",
   "metadata": {},
   "source": [
    "# Tuning the hyperparameters"
   ]
  },
  {
   "cell_type": "code",
   "execution_count": 93,
   "metadata": {
    "scrolled": true
   },
   "outputs": [
    {
     "data": {
      "text/plain": [
       "{'C': 1.0,\n",
       " 'break_ties': False,\n",
       " 'cache_size': 200,\n",
       " 'class_weight': None,\n",
       " 'coef0': 0.0,\n",
       " 'decision_function_shape': 'ovr',\n",
       " 'degree': 3,\n",
       " 'gamma': 'scale',\n",
       " 'kernel': 'rbf',\n",
       " 'max_iter': -1,\n",
       " 'probability': False,\n",
       " 'random_state': None,\n",
       " 'shrinking': True,\n",
       " 'tol': 0.001,\n",
       " 'verbose': False}"
      ]
     },
     "execution_count": 93,
     "metadata": {},
     "output_type": "execute_result"
    }
   ],
   "source": [
    "SVC().get_params()"
   ]
  },
  {
   "cell_type": "code",
   "execution_count": 94,
   "metadata": {},
   "outputs": [],
   "source": [
    "model = SVC(random_state=42)"
   ]
  },
  {
   "cell_type": "code",
   "execution_count": 95,
   "metadata": {},
   "outputs": [],
   "source": [
    "param_dict = {'C': [0.1, 1, 10, 100, 1000], \n",
    "              'gamma': [1, 0.1, 0.01, 0.001, 0.0001],\n",
    "              'kernel': ['rbf']}"
   ]
  },
  {
   "cell_type": "code",
   "execution_count": 96,
   "metadata": {
    "scrolled": true
   },
   "outputs": [
    {
     "name": "stdout",
     "output_type": "stream",
     "text": [
      "Fitting 10 folds for each of 25 candidates, totalling 250 fits\n"
     ]
    },
    {
     "name": "stderr",
     "output_type": "stream",
     "text": [
      "[Parallel(n_jobs=-1)]: Using backend LokyBackend with 8 concurrent workers.\n",
      "[Parallel(n_jobs=-1)]: Done  34 tasks      | elapsed:  3.1min\n",
      "[Parallel(n_jobs=-1)]: Done 184 tasks      | elapsed: 27.1min\n",
      "[Parallel(n_jobs=-1)]: Done 250 out of 250 | elapsed: 58.3min finished\n"
     ]
    },
    {
     "data": {
      "text/plain": [
       "GridSearchCV(cv=10, error_score=nan,\n",
       "             estimator=SVC(C=1.0, break_ties=False, cache_size=200,\n",
       "                           class_weight=None, coef0=0.0,\n",
       "                           decision_function_shape='ovr', degree=3,\n",
       "                           gamma='scale', kernel='rbf', max_iter=-1,\n",
       "                           probability=False, random_state=42, shrinking=True,\n",
       "                           tol=0.001, verbose=False),\n",
       "             iid='deprecated', n_jobs=-1,\n",
       "             param_grid={'C': [0.1, 1, 10, 100, 1000],\n",
       "                         'gamma': [1, 0.1, 0.01, 0.001, 0.0001],\n",
       "                         'kernel': ['rbf']},\n",
       "             pre_dispatch='2*n_jobs', refit=True, return_train_score=False,\n",
       "             scoring=None, verbose=1)"
      ]
     },
     "execution_count": 96,
     "metadata": {},
     "output_type": "execute_result"
    }
   ],
   "source": [
    "grid = GridSearchCV(model, param_dict,cv=10, verbose = 1, n_jobs=-1 ) #refit = True,\n",
    "grid.fit(X_resampled, y_resampled)"
   ]
  },
  {
   "cell_type": "code",
   "execution_count": 97,
   "metadata": {},
   "outputs": [
    {
     "data": {
      "text/plain": [
       "{'C': 1, 'gamma': 1, 'kernel': 'rbf'}"
      ]
     },
     "execution_count": 97,
     "metadata": {},
     "output_type": "execute_result"
    }
   ],
   "source": [
    "grid.best_params_"
   ]
  },
  {
   "cell_type": "code",
   "execution_count": 98,
   "metadata": {},
   "outputs": [
    {
     "data": {
      "text/plain": [
       "SVC(C=1, break_ties=False, cache_size=200, class_weight=None, coef0=0.0,\n",
       "    decision_function_shape='ovr', degree=3, gamma=1, kernel='rbf', max_iter=-1,\n",
       "    probability=False, random_state=42, shrinking=True, tol=0.001,\n",
       "    verbose=False)"
      ]
     },
     "execution_count": 98,
     "metadata": {},
     "output_type": "execute_result"
    }
   ],
   "source": [
    "grid.best_estimator_"
   ]
  },
  {
   "cell_type": "code",
   "execution_count": 99,
   "metadata": {},
   "outputs": [
    {
     "data": {
      "text/plain": [
       "0.9318164986836592"
      ]
     },
     "execution_count": 99,
     "metadata": {},
     "output_type": "execute_result"
    }
   ],
   "source": [
    "grid.best_score_"
   ]
  },
  {
   "cell_type": "code",
   "execution_count": 100,
   "metadata": {
    "scrolled": true
   },
   "outputs": [
    {
     "data": {
      "text/html": [
       "<div>\n",
       "<style scoped>\n",
       "    .dataframe tbody tr th:only-of-type {\n",
       "        vertical-align: middle;\n",
       "    }\n",
       "\n",
       "    .dataframe tbody tr th {\n",
       "        vertical-align: top;\n",
       "    }\n",
       "\n",
       "    .dataframe thead th {\n",
       "        text-align: right;\n",
       "    }\n",
       "</style>\n",
       "<table border=\"1\" class=\"dataframe\">\n",
       "  <thead>\n",
       "    <tr style=\"text-align: right;\">\n",
       "      <th></th>\n",
       "      <th>mean_fit_time</th>\n",
       "      <th>std_fit_time</th>\n",
       "      <th>mean_score_time</th>\n",
       "      <th>std_score_time</th>\n",
       "      <th>param_C</th>\n",
       "      <th>param_gamma</th>\n",
       "      <th>param_kernel</th>\n",
       "      <th>params</th>\n",
       "      <th>split0_test_score</th>\n",
       "      <th>split1_test_score</th>\n",
       "      <th>split2_test_score</th>\n",
       "      <th>split3_test_score</th>\n",
       "      <th>split4_test_score</th>\n",
       "      <th>split5_test_score</th>\n",
       "      <th>split6_test_score</th>\n",
       "      <th>split7_test_score</th>\n",
       "      <th>split8_test_score</th>\n",
       "      <th>split9_test_score</th>\n",
       "      <th>mean_test_score</th>\n",
       "      <th>std_test_score</th>\n",
       "      <th>rank_test_score</th>\n",
       "    </tr>\n",
       "  </thead>\n",
       "  <tbody>\n",
       "    <tr>\n",
       "      <th>0</th>\n",
       "      <td>65.946952</td>\n",
       "      <td>4.956849</td>\n",
       "      <td>3.080360</td>\n",
       "      <td>0.151633</td>\n",
       "      <td>0.1</td>\n",
       "      <td>1</td>\n",
       "      <td>rbf</td>\n",
       "      <td>{'C': 0.1, 'gamma': 1, 'kernel': 'rbf'}</td>\n",
       "      <td>0.914951</td>\n",
       "      <td>0.913868</td>\n",
       "      <td>0.921723</td>\n",
       "      <td>0.917660</td>\n",
       "      <td>0.921181</td>\n",
       "      <td>0.924682</td>\n",
       "      <td>0.920076</td>\n",
       "      <td>0.924953</td>\n",
       "      <td>0.920618</td>\n",
       "      <td>0.922243</td>\n",
       "      <td>0.920195</td>\n",
       "      <td>0.003527</td>\n",
       "      <td>11</td>\n",
       "    </tr>\n",
       "    <tr>\n",
       "      <th>1</th>\n",
       "      <td>21.201564</td>\n",
       "      <td>0.711193</td>\n",
       "      <td>1.241493</td>\n",
       "      <td>0.115456</td>\n",
       "      <td>0.1</td>\n",
       "      <td>0.1</td>\n",
       "      <td>rbf</td>\n",
       "      <td>{'C': 0.1, 'gamma': 0.1, 'kernel': 'rbf'}</td>\n",
       "      <td>0.917389</td>\n",
       "      <td>0.914680</td>\n",
       "      <td>0.920368</td>\n",
       "      <td>0.914680</td>\n",
       "      <td>0.917118</td>\n",
       "      <td>0.927120</td>\n",
       "      <td>0.914928</td>\n",
       "      <td>0.927120</td>\n",
       "      <td>0.920076</td>\n",
       "      <td>0.919534</td>\n",
       "      <td>0.919301</td>\n",
       "      <td>0.004408</td>\n",
       "      <td>12</td>\n",
       "    </tr>\n",
       "    <tr>\n",
       "      <th>2</th>\n",
       "      <td>25.097465</td>\n",
       "      <td>1.406449</td>\n",
       "      <td>1.498207</td>\n",
       "      <td>0.035056</td>\n",
       "      <td>0.1</td>\n",
       "      <td>0.01</td>\n",
       "      <td>rbf</td>\n",
       "      <td>{'C': 0.1, 'gamma': 0.01, 'kernel': 'rbf'}</td>\n",
       "      <td>0.903575</td>\n",
       "      <td>0.905471</td>\n",
       "      <td>0.904930</td>\n",
       "      <td>0.898429</td>\n",
       "      <td>0.907367</td>\n",
       "      <td>0.912219</td>\n",
       "      <td>0.906258</td>\n",
       "      <td>0.915199</td>\n",
       "      <td>0.906529</td>\n",
       "      <td>0.911135</td>\n",
       "      <td>0.907111</td>\n",
       "      <td>0.004518</td>\n",
       "      <td>17</td>\n",
       "    </tr>\n",
       "    <tr>\n",
       "      <th>3</th>\n",
       "      <td>38.819265</td>\n",
       "      <td>1.355566</td>\n",
       "      <td>2.584656</td>\n",
       "      <td>0.185805</td>\n",
       "      <td>0.1</td>\n",
       "      <td>0.001</td>\n",
       "      <td>rbf</td>\n",
       "      <td>{'C': 0.1, 'gamma': 0.001, 'kernel': 'rbf'}</td>\n",
       "      <td>0.899512</td>\n",
       "      <td>0.900054</td>\n",
       "      <td>0.897075</td>\n",
       "      <td>0.890033</td>\n",
       "      <td>0.900054</td>\n",
       "      <td>0.903007</td>\n",
       "      <td>0.898672</td>\n",
       "      <td>0.908155</td>\n",
       "      <td>0.898943</td>\n",
       "      <td>0.902195</td>\n",
       "      <td>0.899770</td>\n",
       "      <td>0.004369</td>\n",
       "      <td>24</td>\n",
       "    </tr>\n",
       "    <tr>\n",
       "      <th>4</th>\n",
       "      <td>86.899927</td>\n",
       "      <td>2.129050</td>\n",
       "      <td>4.801747</td>\n",
       "      <td>0.400729</td>\n",
       "      <td>0.1</td>\n",
       "      <td>0.0001</td>\n",
       "      <td>rbf</td>\n",
       "      <td>{'C': 0.1, 'gamma': 0.0001, 'kernel': 'rbf'}</td>\n",
       "      <td>0.884615</td>\n",
       "      <td>0.881365</td>\n",
       "      <td>0.876490</td>\n",
       "      <td>0.871614</td>\n",
       "      <td>0.884886</td>\n",
       "      <td>0.882146</td>\n",
       "      <td>0.883500</td>\n",
       "      <td>0.894879</td>\n",
       "      <td>0.883229</td>\n",
       "      <td>0.885126</td>\n",
       "      <td>0.882785</td>\n",
       "      <td>0.005719</td>\n",
       "      <td>25</td>\n",
       "    </tr>\n",
       "  </tbody>\n",
       "</table>\n",
       "</div>"
      ],
      "text/plain": [
       "   mean_fit_time  std_fit_time  mean_score_time  std_score_time param_C  \\\n",
       "0      65.946952      4.956849         3.080360        0.151633     0.1   \n",
       "1      21.201564      0.711193         1.241493        0.115456     0.1   \n",
       "2      25.097465      1.406449         1.498207        0.035056     0.1   \n",
       "3      38.819265      1.355566         2.584656        0.185805     0.1   \n",
       "4      86.899927      2.129050         4.801747        0.400729     0.1   \n",
       "\n",
       "  param_gamma param_kernel                                        params  \\\n",
       "0           1          rbf       {'C': 0.1, 'gamma': 1, 'kernel': 'rbf'}   \n",
       "1         0.1          rbf     {'C': 0.1, 'gamma': 0.1, 'kernel': 'rbf'}   \n",
       "2        0.01          rbf    {'C': 0.1, 'gamma': 0.01, 'kernel': 'rbf'}   \n",
       "3       0.001          rbf   {'C': 0.1, 'gamma': 0.001, 'kernel': 'rbf'}   \n",
       "4      0.0001          rbf  {'C': 0.1, 'gamma': 0.0001, 'kernel': 'rbf'}   \n",
       "\n",
       "   split0_test_score  split1_test_score  split2_test_score  split3_test_score  \\\n",
       "0           0.914951           0.913868           0.921723           0.917660   \n",
       "1           0.917389           0.914680           0.920368           0.914680   \n",
       "2           0.903575           0.905471           0.904930           0.898429   \n",
       "3           0.899512           0.900054           0.897075           0.890033   \n",
       "4           0.884615           0.881365           0.876490           0.871614   \n",
       "\n",
       "   split4_test_score  split5_test_score  split6_test_score  split7_test_score  \\\n",
       "0           0.921181           0.924682           0.920076           0.924953   \n",
       "1           0.917118           0.927120           0.914928           0.927120   \n",
       "2           0.907367           0.912219           0.906258           0.915199   \n",
       "3           0.900054           0.903007           0.898672           0.908155   \n",
       "4           0.884886           0.882146           0.883500           0.894879   \n",
       "\n",
       "   split8_test_score  split9_test_score  mean_test_score  std_test_score  \\\n",
       "0           0.920618           0.922243         0.920195        0.003527   \n",
       "1           0.920076           0.919534         0.919301        0.004408   \n",
       "2           0.906529           0.911135         0.907111        0.004518   \n",
       "3           0.898943           0.902195         0.899770        0.004369   \n",
       "4           0.883229           0.885126         0.882785        0.005719   \n",
       "\n",
       "   rank_test_score  \n",
       "0               11  \n",
       "1               12  \n",
       "2               17  \n",
       "3               24  \n",
       "4               25  "
      ]
     },
     "execution_count": 100,
     "metadata": {},
     "output_type": "execute_result"
    }
   ],
   "source": [
    "df2 = pd.DataFrame(grid.cv_results_)\n",
    "df2.head()"
   ]
  },
  {
   "cell_type": "code",
   "execution_count": 102,
   "metadata": {
    "scrolled": true
   },
   "outputs": [
    {
     "data": {
      "text/html": [
       "<div>\n",
       "<style scoped>\n",
       "    .dataframe tbody tr th:only-of-type {\n",
       "        vertical-align: middle;\n",
       "    }\n",
       "\n",
       "    .dataframe tbody tr th {\n",
       "        vertical-align: top;\n",
       "    }\n",
       "\n",
       "    .dataframe thead th {\n",
       "        text-align: right;\n",
       "    }\n",
       "</style>\n",
       "<table border=\"1\" class=\"dataframe\">\n",
       "  <thead>\n",
       "    <tr style=\"text-align: right;\">\n",
       "      <th></th>\n",
       "      <th>param_C</th>\n",
       "      <th>param_gamma</th>\n",
       "      <th>params</th>\n",
       "      <th>mean_test_score</th>\n",
       "      <th>std_test_score</th>\n",
       "    </tr>\n",
       "  </thead>\n",
       "  <tbody>\n",
       "    <tr>\n",
       "      <th>5</th>\n",
       "      <td>1</td>\n",
       "      <td>1</td>\n",
       "      <td>{'C': 1, 'gamma': 1, 'kernel': 'rbf'}</td>\n",
       "      <td>0.931816</td>\n",
       "      <td>0.003541</td>\n",
       "    </tr>\n",
       "    <tr>\n",
       "      <th>11</th>\n",
       "      <td>10</td>\n",
       "      <td>0.1</td>\n",
       "      <td>{'C': 10, 'gamma': 0.1, 'kernel': 'rbf'}</td>\n",
       "      <td>0.928078</td>\n",
       "      <td>0.002533</td>\n",
       "    </tr>\n",
       "    <tr>\n",
       "      <th>10</th>\n",
       "      <td>10</td>\n",
       "      <td>1</td>\n",
       "      <td>{'C': 10, 'gamma': 1, 'kernel': 'rbf'}</td>\n",
       "      <td>0.927861</td>\n",
       "      <td>0.003943</td>\n",
       "    </tr>\n",
       "  </tbody>\n",
       "</table>\n",
       "</div>"
      ],
      "text/plain": [
       "   param_C param_gamma                                    params  \\\n",
       "5        1           1     {'C': 1, 'gamma': 1, 'kernel': 'rbf'}   \n",
       "11      10         0.1  {'C': 10, 'gamma': 0.1, 'kernel': 'rbf'}   \n",
       "10      10           1    {'C': 10, 'gamma': 1, 'kernel': 'rbf'}   \n",
       "\n",
       "    mean_test_score  std_test_score  \n",
       "5          0.931816        0.003541  \n",
       "11         0.928078        0.002533  \n",
       "10         0.927861        0.003943  "
      ]
     },
     "execution_count": 102,
     "metadata": {},
     "output_type": "execute_result"
    }
   ],
   "source": [
    "df2[[\"param_C\",\"param_gamma\", \"params\", \"mean_test_score\", \"std_test_score\"]].sort_values(by=['mean_test_score'],ascending=False).head(3)"
   ]
  },
  {
   "cell_type": "code",
   "execution_count": 47,
   "metadata": {},
   "outputs": [],
   "source": [
    "model = SVC(C=1, gamma=1, kernel='rbf', random_state=42)"
   ]
  },
  {
   "cell_type": "code",
   "execution_count": 48,
   "metadata": {},
   "outputs": [
    {
     "name": "stdout",
     "output_type": "stream",
     "text": [
      "Accuracy on training set after tuning: 0.959\n"
     ]
    }
   ],
   "source": [
    "# Train SVM\n",
    "clf= model.fit(X_resampled, y_resampled)\n",
    "print(\"Accuracy on training set after tuning: {:.3f}\".format(model.score(X_resampled,y_resampled)))"
   ]
  },
  {
   "cell_type": "code",
   "execution_count": 49,
   "metadata": {},
   "outputs": [],
   "source": [
    "y_pred= model.predict(X_val)"
   ]
  },
  {
   "cell_type": "code",
   "execution_count": 50,
   "metadata": {},
   "outputs": [
    {
     "name": "stdout",
     "output_type": "stream",
     "text": [
      "Accurcay 0.9321414059325478\n",
      "Precision 0.9543913190912173\n",
      "Recall 0.90863599677159\n",
      "F1 score 0.9309517902919044\n"
     ]
    }
   ],
   "source": [
    "print(\"Accurcay\",accuracy_score(y_val, y_pred))\n",
    "print(\"Precision\", precision_score(y_val, y_pred))\n",
    "print(\"Recall\",recall_score(y_val, y_pred))\n",
    "print(\"F1 score\",f1_score(y_val, y_pred))"
   ]
  },
  {
   "cell_type": "code",
   "execution_count": 131,
   "metadata": {},
   "outputs": [
    {
     "data": {
      "text/plain": [
       "<sklearn.metrics._plot.confusion_matrix.ConfusionMatrixDisplay at 0x7fc17a10a278>"
      ]
     },
     "execution_count": 131,
     "metadata": {},
     "output_type": "execute_result"
    },
    {
     "data": {
      "image/png": "[encoded data removed]",
      "text/plain": [
       "<Figure size 432x288 with 2 Axes>"
      ]
     },
     "metadata": {
      "needs_background": "light"
     },
     "output_type": "display_data"
    }
   ],
   "source": [
    "plot_confusion_matrix(model, X_val, y_val, values_format='')"
   ]
  },
  {
   "cell_type": "code",
   "execution_count": null,
   "metadata": {},
   "outputs": [],
   "source": [
    "‰"
   ]
  },
  {
   "cell_type": "markdown",
   "metadata": {},
   "source": [
    "# Testdata without tuning"
   ]
  },
  {
   "cell_type": "code",
   "execution_count": 51,
   "metadata": {},
   "outputs": [],
   "source": [
    "model = SVC(random_state=42).fit(X_resampled, y_resampled)"
   ]
  },
  {
   "cell_type": "code",
   "execution_count": 52,
   "metadata": {},
   "outputs": [],
   "source": [
    "y_pred= model.predict(X_test)"
   ]
  },
  {
   "cell_type": "code",
   "execution_count": 53,
   "metadata": {},
   "outputs": [
    {
     "name": "stdout",
     "output_type": "stream",
     "text": [
      "Accurcay 0.9175322631413283\n",
      "Precision 0.9714133522727273\n",
      "Recall 0.8974737532808399\n",
      "F1 score 0.932980900409277\n"
     ]
    }
   ],
   "source": [
    "print(\"Accurcay\",accuracy_score(y_test, y_pred))\n",
    "print(\"Precision\", precision_score(y_test, y_pred))\n",
    "print(\"Recall\",recall_score(y_test, y_pred))\n",
    "print(\"F1 score\",f1_score(y_test, y_pred))\n"
   ]
  },
  {
   "cell_type": "code",
   "execution_count": null,
   "metadata": {},
   "outputs": [],
   "source": []
  },
  {
   "cell_type": "markdown",
   "metadata": {},
   "source": [
    "# Test the model"
   ]
  },
  {
   "cell_type": "code",
   "execution_count": 54,
   "metadata": {},
   "outputs": [],
   "source": [
    "model = SVC(C=1, gamma=1, kernel='rbf', random_state=42).fit(X_resampled, y_resampled)\n"
   ]
  },
  {
   "cell_type": "code",
   "execution_count": 55,
   "metadata": {
    "scrolled": true
   },
   "outputs": [
    {
     "data": {
      "text/plain": [
       "<sklearn.metrics._plot.confusion_matrix.ConfusionMatrixDisplay at 0x24daf7d0>"
      ]
     },
     "execution_count": 55,
     "metadata": {},
     "output_type": "execute_result"
    },
    {
     "data": {
      "image/png": "[encoded data removed]",
      "text/plain": [
       "<Figure size 432x288 with 2 Axes>"
      ]
     },
     "metadata": {
      "needs_background": "light"
     },
     "output_type": "display_data"
    }
   ],
   "source": [
    "plot_confusion_matrix(model, X_test, y_test, values_format='')"
   ]
  },
  {
   "cell_type": "code",
   "execution_count": 56,
   "metadata": {},
   "outputs": [],
   "source": [
    "#predict the test data\n",
    "y_pred= model.predict(X_test)"
   ]
  },
  {
   "cell_type": "code",
   "execution_count": 57,
   "metadata": {
    "scrolled": true
   },
   "outputs": [
    {
     "name": "stdout",
     "output_type": "stream",
     "text": [
      "              precision    recall  f1-score   support\n",
      "\n",
      "           0       0.85      0.92      0.89      3435\n",
      "           1       0.95      0.91      0.93      6096\n",
      "\n",
      "    accuracy                           0.91      9531\n",
      "   macro avg       0.90      0.91      0.91      9531\n",
      "weighted avg       0.92      0.91      0.91      9531\n",
      "\n"
     ]
    }
   ],
   "source": [
    "print(classification_report(y_test,y_pred))"
   ]
  },
  {
   "cell_type": "code",
   "execution_count": 58,
   "metadata": {
    "scrolled": false
   },
   "outputs": [
    {
     "name": "stdout",
     "output_type": "stream",
     "text": [
      "Accurcay 0.9140698772426817\n",
      "Precision 0.9517205957883924\n",
      "Recall 0.9119094488188977\n",
      "F1 score 0.9313897964312642\n"
     ]
    }
   ],
   "source": [
    "print(\"Accurcay\",accuracy_score(y_test, y_pred))\n",
    "print(\"Precision\", precision_score(y_test, y_pred))\n",
    "print(\"Recall\",recall_score(y_test, y_pred))\n",
    "print(\"F1 score\",f1_score(y_test, y_pred))\n"
   ]
  },
  {
   "cell_type": "code",
   "execution_count": null,
   "metadata": {},
   "outputs": [],
   "source": []
  },
  {
   "cell_type": "code",
   "execution_count": null,
   "metadata": {},
   "outputs": [],
   "source": []
  }
 ],
 "metadata": {
  "kernelspec": {
   "display_name": "Python 3",
   "language": "python",
   "name": "python3"
  },
  "language_info": {
   "codemirror_mode": {
    "name": "ipython",
    "version": 3
   },
   "file_extension": ".py",
   "mimetype": "text/x-python",
   "name": "python",
   "nbconvert_exporter": "python",
   "pygments_lexer": "ipython3",
   "version": "3.7.3"
  }
 },
 "nbformat": 4,
 "nbformat_minor": 2
}
